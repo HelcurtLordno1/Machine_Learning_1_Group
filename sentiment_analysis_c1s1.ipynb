{
 "cells": [
  {
   "attachments": {},
   "cell_type": "markdown",
   "metadata": {},
   "source": [
    "## Sentiment Analysis\n",
    "#### **Sentiment Analysis**. The idea is that we will equip our students with nothing beforehand and we will build a Sentiment Analysis \"solution\" from scratch quickly. \n",
    "In first two sessions, we will cover the following:  \n",
    "* Some basic text processing (to handle comments, feedbacks, reviews, complaints).\n",
    "* A bit of feature engineering to extract relevant information for Sentiment Analysis task.\n",
    "* How to build and run a basic ML model on those features for Sentiment Analysis task. In this part, we will have a deep review on Logistic Regression and Naïve Bayes models in NLP context.\n",
    "\n",
    "Note: For the sake of simplicity and some illustration purpose, we will put everything in one single jupyter notebook. It means that I will ignore any kind of OOP principles for a while :) \n",
    "\n",
    "\n"
   ]
  },
  {
   "attachments": {},
   "cell_type": "markdown",
   "metadata": {},
   "source": [
    "### Lib importation and data download"
   ]
  },
  {
   "cell_type": "code",
   "execution_count": 1,
   "metadata": {},
   "outputs": [],
   "source": [
    "import nltk #Natural Language Toolkit\n",
    "import numpy as np\n",
    "import pandas as pd\n",
    "from nltk.corpus import twitter_samples\n",
    "import matplotlib.pyplot as plt\n",
    "from mpl_toolkits.mplot3d import Axes3D"
   ]
  },
  {
   "cell_type": "code",
   "execution_count": 2,
   "id": "c47e582c",
   "metadata": {},
   "outputs": [
    {
     "name": "stderr",
     "output_type": "stream",
     "text": [
      "[nltk_data] Downloading package twitter_samples to\n",
      "[nltk_data]     C:\\Users\\ACER\\AppData\\Roaming\\nltk_data...\n",
      "[nltk_data]   Package twitter_samples is already up-to-date!\n",
      "[nltk_data] Downloading package stopwords to\n",
      "[nltk_data]     C:\\Users\\ACER\\AppData\\Roaming\\nltk_data...\n",
      "[nltk_data]   Package stopwords is already up-to-date!\n"
     ]
    },
    {
     "data": {
      "text/plain": [
       "True"
      ]
     },
     "execution_count": 2,
     "metadata": {},
     "output_type": "execute_result"
    }
   ],
   "source": [
    "nltk.download('twitter_samples')\n",
    "nltk.download('stopwords')"
   ]
  },
  {
   "attachments": {},
   "cell_type": "markdown",
   "id": "fa28092b",
   "metadata": {},
   "source": [
    "### Twitter sample data\n",
    "* The `twitter_samples` contains 5000 positive_tweets, 5000 negative_tweets, hence 10000 samples in total.\n",
    "* Each tweet is associated with a sentiment (a label). A positive tweet is labeled as 1 and a negative one is labeled as 0.\n",
    "* We use 80% data to train a model and 20% data for testing."
   ]
  },
  {
   "cell_type": "markdown",
   "id": "f7c9e9a4",
   "metadata": {},
   "source": [
    "### Problem:\n",
    "We are in a typical framework for Sentiment Analysis where we would love to create some sort of algorithm to determine whether the sentiment of a sentence (a tweet in this case) is positive or negative. "
   ]
  },
  {
   "cell_type": "code",
   "execution_count": 3,
   "id": "9157c060",
   "metadata": {},
   "outputs": [],
   "source": [
    "all_positive_tweets = twitter_samples.strings('positive_tweets.json')\n",
    "all_negative_tweets = twitter_samples.strings('negative_tweets.json')"
   ]
  },
  {
   "cell_type": "code",
   "execution_count": 4,
   "id": "e72fba84",
   "metadata": {},
   "outputs": [],
   "source": [
    "# split data into train and test set\n",
    "test_pos = all_positive_tweets[4000:]\n",
    "train_pos = all_positive_tweets[:4000]\n",
    "test_neg = all_negative_tweets[4000:]\n",
    "train_neg = all_negative_tweets[:4000]\n",
    "\n",
    "train_x = train_pos + train_neg \n",
    "test_x = test_pos + test_neg"
   ]
  },
  {
   "cell_type": "code",
   "execution_count": 5,
   "id": "72d41461",
   "metadata": {},
   "outputs": [],
   "source": [
    "# Create the numpy array of positive labels and negative labels.\n",
    "train_y = np.append(np.ones((len(train_pos), 1)), np.zeros((len(train_neg), 1)), axis=0)\n",
    "test_y = np.append(np.ones((len(test_pos), 1)), np.zeros((len(test_neg), 1)), axis=0)"
   ]
  },
  {
   "cell_type": "code",
   "execution_count": 6,
   "id": "4599e3be",
   "metadata": {},
   "outputs": [
    {
     "name": "stdout",
     "output_type": "stream",
     "text": [
      "train_y.shape = (8000, 1)\n",
      "test_y.shape = (2000, 1)\n"
     ]
    }
   ],
   "source": [
    "# Print the shape train and test sets\n",
    "print(\"train_y.shape = \" + str(train_y.shape))\n",
    "print(\"test_y.shape = \" + str(test_y.shape))"
   ]
  },
  {
   "attachments": {},
   "cell_type": "markdown",
   "id": "27a77861",
   "metadata": {},
   "source": [
    "Let's take a quick look into our data"
   ]
  },
  {
   "cell_type": "code",
   "execution_count": 14,
   "id": "200bb0d6",
   "metadata": {},
   "outputs": [
    {
     "name": "stdout",
     "output_type": "stream",
     "text": [
      "the tweet in train set is:  @UKBusinessLunch Hi we will be joining you again today :)\n"
     ]
    }
   ],
   "source": [
    "print('the tweet in train set is: ', train_x[108])"
   ]
  },
  {
   "cell_type": "code",
   "execution_count": 15,
   "id": "6ad07dab",
   "metadata": {},
   "outputs": [
    {
     "name": "stdout",
     "output_type": "stream",
     "text": [
      "the 1001-th tweet in test set:  someone say thank u and goodbye to chris for me tomorrow pls :(\n"
     ]
    }
   ],
   "source": [
    "print('the 1001-th tweet in test set: ', test_x[1450])"
   ]
  },
  {
   "attachments": {},
   "cell_type": "markdown",
   "id": "283db828",
   "metadata": {},
   "source": [
    "## PART I - Data preprocessing\n",
    "Basic steps for data preprocessing:\n",
    "* Punctuation Removal\n",
    "* Lowering the Text\n",
    "* Tokenization i.e. split a tweet into words\n",
    "* Stop Word Removal: Stopwords are the commonly used words and are removed from the text as they do not add any value to the analysis\n",
    "* Stemming: Words are stemmed or diminished to their root/base form.  For example, ‘programmer’, ‘programming, ‘program’ are stemmed to ‘program’\n",
    "\n",
    "Output: each tweet is transformed into a list of \"words\" (they are not 100% usual English words because of stemming operation).\n"
   ]
  },
  {
   "cell_type": "code",
   "execution_count": 7,
   "id": "9426d56a",
   "metadata": {},
   "outputs": [],
   "source": [
    "from nltk.stem import PorterStemmer\n",
    "from nltk.tokenize import TweetTokenizer\n",
    "from nltk.corpus import stopwords\n",
    "import re\n",
    "import string\n",
    "\n",
    "def process_tweet(tweet):\n",
    "    \"\"\"\n",
    "    Input:\n",
    "        :tweet: a string\n",
    "    Output:\n",
    "        :tweets_clean: a list of words containing the processed tweet\n",
    "    \"\"\"\n",
    "    stemmer = PorterStemmer()\n",
    "    stopwords_english = stopwords.words('english')\n",
    "\n",
    "    # remove stock market tickers like $GE\n",
    "    tweet = re.sub(r'\\$\\w*', '', tweet)\n",
    "    # remove old style retweet text \"RT\"\n",
    "    tweet = re.sub(r'^RT[\\s]+', '', tweet)\n",
    "    # remove hyperlinks\n",
    "    tweet = re.sub(r'https?://[^\\s\\n\\r]+', '', tweet)\n",
    "    # remove hashtags\n",
    "    # only removing the hash # sign from the word\n",
    "    tweet = re.sub(r'#', '', tweet)\n",
    "\n",
    "    # tokenize tweets\n",
    "    tokenizer = TweetTokenizer(preserve_case=False, strip_handles=True, reduce_len=True) #the tokenizer will downcase everything except for emoticons\n",
    "    tweet_tokens = tokenizer.tokenize(tweet)\n",
    "\n",
    "    tweets_clean = []\n",
    "    for word in tweet_tokens:\n",
    "        if (word not in stopwords_english and   # remove stopwords\n",
    "                word not in string.punctuation): # remove punctuation\n",
    "            stem_word = stemmer.stem(word)\n",
    "            tweets_clean.append(stem_word)\n",
    "\n",
    "    return tweets_clean"
   ]
  },
  {
   "cell_type": "code",
   "execution_count": 8,
   "id": "3b50dad5",
   "metadata": {},
   "outputs": [
    {
     "name": "stdout",
     "output_type": "stream",
     "text": [
      "We don't like to keep our lovely customers waiting for long! We hope you enjoy! Happy Friday! - LWWF :) https://t.co/smyYriipxI\n",
      "['like', 'keep', 'love', 'custom', 'wait', 'long', 'hope', 'enjoy', 'happi', 'friday', 'lwwf', ':)']\n"
     ]
    }
   ],
   "source": [
    "print(train_x[6])\n",
    "print(process_tweet(train_x[6]))"
   ]
  },
  {
   "cell_type": "code",
   "execution_count": 26,
   "id": "c5d30954",
   "metadata": {},
   "outputs": [
    {
     "name": "stdout",
     "output_type": "stream",
     "text": [
      "@EllieVond @SkeletonSweets @Justin_Naito @justcallmerizzo No actually, you don't. Bye bye indeed. Go take your drama elsewhere. :)\n",
      "['actual', 'bye', 'bye', 'inde', 'go', 'take', 'drama', 'elsewher', ':)']\n"
     ]
    }
   ],
   "source": [
    "print(test_x[11])\n",
    "print(process_tweet(test_x[11]))"
   ]
  },
  {
   "attachments": {},
   "cell_type": "markdown",
   "id": "d73df8f4",
   "metadata": {},
   "source": [
    "## PART II - Feature engineering\n",
    "Basically, machine models are made by mathematical formulae, hence, they can only understand numerical structures. Hence, we have to extract from our text data (tweets) specific information (<b>feature</b>) which are numerically interpretable and are linked to our goal (Sentiment Analysis). <br>\n",
    "In the present Sentiment Analysis problem, we want to build a machine which is capable of reading a tweet and tell us whether this tweet has a positive or negative sentiment. <br>\n",
    "   \n",
    "* We build a frequency dictionary {(word, label): freq} which count the number of times (frequency) that the word is associated with the label. \n",
    "    * For example, ('happy', 1): 14 means that the word \"happy\" appears in positive tweets 14 times.\n",
    "* Given a list of tweets, we will extract two features and store them into a matrix\n",
    "    * The first feature is the number of positive words in a tweet.\n",
    "    * The second feature is the number of negative words in a tweet. "
   ]
  },
  {
   "attachments": {},
   "cell_type": "markdown",
   "id": "1afd5e41",
   "metadata": {},
   "source": [
    "### PART II.1 - Build a frequency dictionary"
   ]
  },
  {
   "cell_type": "code",
   "execution_count": 8,
   "id": "30a1de69",
   "metadata": {},
   "outputs": [],
   "source": [
    "def build_freqs(tweets, ys):\n",
    "    \"\"\" Build frequencies\n",
    "    Input:\n",
    "    tweets: a list of tweets\n",
    "    ys: an mx1 array with the sentiment label of each tweet (either 0 or 1)\n",
    "    Output:\n",
    "    freqs: a dictionary mapping each (word, sentiment) pair to its frequency\n",
    "    \"\"\"\n",
    "    yslist = np.squeeze(ys).tolist()\n",
    "    # start with an empty dict and populate it by looping over all tweets\n",
    "    freqs = {}\n",
    "    for y, tweet in zip(yslist, tweets):\n",
    "        for word in process_tweet(tweet):\n",
    "            pair = (word, y)\n",
    "            if pair in freqs:\n",
    "                freqs[pair] += 1\n",
    "            else:\n",
    "                freqs[pair] = 1\n",
    "\n",
    "    return freqs"
   ]
  },
  {
   "cell_type": "code",
   "execution_count": 9,
   "id": "82c35a14",
   "metadata": {},
   "outputs": [
    {
     "name": "stdout",
     "output_type": "stream",
     "text": [
      "type(freqs) = <class 'dict'>\n",
      "len(freqs) = 11397\n"
     ]
    }
   ],
   "source": [
    "# create frequency dictionary\n",
    "freqs = build_freqs(train_x, train_y)\n",
    "\n",
    "# check the output\n",
    "print(\"type(freqs) = \" + str(type(freqs)))\n",
    "print(\"len(freqs) = \" + str(len(freqs.keys())))"
   ]
  },
  {
   "attachments": {},
   "cell_type": "markdown",
   "id": "b5bf026b",
   "metadata": {},
   "source": [
    "Let's take a look into our frequency dictionary"
   ]
  },
  {
   "cell_type": "code",
   "execution_count": 42,
   "id": "fd364c46",
   "metadata": {},
   "outputs": [
    {
     "data": {
      "text/plain": [
       "{'followfriday': 1.0, 'top': 1.0, 'engag': 1.0, 'member': 1.0, 'commun': 1.0}"
      ]
     },
     "execution_count": 42,
     "metadata": {},
     "output_type": "execute_result"
    }
   ],
   "source": [
    "dict(list(freqs)[:5])"
   ]
  },
  {
   "attachments": {},
   "cell_type": "markdown",
   "id": "1b5616d6",
   "metadata": {},
   "source": [
    "### PART II.2 - Feature extraction\n",
    "Implement extract_features function:\n",
    "* This function takes in a single tweet.\n",
    "* Process the tweet using `process_tweet` function and save the list of tweet words.\n",
    "* Loop through each word in the list of processed words\n",
    "    * For each word, check the 'freqs' dictionary for the count when that word has a positive '1' label. (value associated with the key (word, 1.0)\n",
    "    * Do the same for the count for when the word is associated with the negative label '0'. (value associated with the key (word, 0.0).)"
   ]
  },
  {
   "cell_type": "code",
   "execution_count": 10,
   "id": "4856d5d0",
   "metadata": {},
   "outputs": [],
   "source": [
    "def extract_features(tweet, freqs, process_tweet=process_tweet):\n",
    "    '''\n",
    "    Input: \n",
    "        tweet: a list of words for one tweet\n",
    "        freqs: a dictionary corresponding to the frequencies of each tuple (word, label)\n",
    "    Output: \n",
    "        x: a feature vector of dimension (1,3)\n",
    "    '''\n",
    "    # process_tweet tokenizes, stems, and removes stopwords\n",
    "    word_l = process_tweet(tweet)\n",
    "    \n",
    "    # 3 elements in the form of a 1 x 3 vector\n",
    "    x = np.zeros((1, 3)) \n",
    "    \n",
    "    #bias term is set to 1\n",
    "    x[0,0] = 1    \n",
    "    # loop through each word in the list of words\n",
    "    for word in word_l:\n",
    "        \n",
    "        # increment the word count for the positive label 1\n",
    "        if (word, 1) in freqs.keys():\n",
    "            x[0,1] += freqs[(word, 1)]\n",
    "        \n",
    "        # increment the word count for the negative label 0\n",
    "        if (word, 0) in freqs.keys():\n",
    "            x[0,2] += freqs[(word, 0)]\n",
    "        \n",
    "    assert(x.shape == (1, 3))\n",
    "    return x"
   ]
  },
  {
   "cell_type": "code",
   "execution_count": 16,
   "id": "940258e3",
   "metadata": {},
   "outputs": [
    {
     "data": {
      "text/plain": [
       "'Jgh , but we have to go to Bayan :D bye'"
      ]
     },
     "execution_count": 16,
     "metadata": {},
     "output_type": "execute_result"
    }
   ],
   "source": [
    "train_x[8]"
   ]
  },
  {
   "cell_type": "code",
   "execution_count": 20,
   "id": "370add79",
   "metadata": {},
   "outputs": [
    {
     "data": {
      "text/plain": [
       "array([[  1., 656., 189.]])"
      ]
     },
     "execution_count": 20,
     "metadata": {},
     "output_type": "execute_result"
    }
   ],
   "source": [
    "extract_features(train_x[8], freqs)"
   ]
  },
  {
   "cell_type": "code",
   "execution_count": 18,
   "id": "bbf98873",
   "metadata": {},
   "outputs": [
    {
     "data": {
      "text/plain": [
       "['jgh', 'go', 'bayan', ':d', 'bye']"
      ]
     },
     "execution_count": 18,
     "metadata": {},
     "output_type": "execute_result"
    }
   ],
   "source": [
    "process_tweet(train_x[8])"
   ]
  },
  {
   "cell_type": "markdown",
   "id": "5c8804a6",
   "metadata": {},
   "source": [
    "### Exercise 6: Add 4 more features\n",
    "| Var | Definition |\n",
    "|-----|------------|\n",
    "| x₁ | count(positive lexicon words ∈ doc) |\n",
    "| x₂ | count(negative lexicon words ∈ doc) |\n",
    "| x₃ | { 1 if \"no\" ∈ doc<br>{ 0 otherwise |\n",
    "| x₄ | count(1st and 2nd pronouns ∈ doc) |\n",
    "| x₅ | { 1 if \"!\" ∈ doc<br>{ 0 otherwise |\n",
    "| x₆ | ln(word count of doc) |\n"
   ]
  },
  {
   "cell_type": "code",
   "execution_count": 20,
   "id": "c2b13ed9",
   "metadata": {},
   "outputs": [],
   "source": [
    "def extract_features_2(tweet, freqs, process_tweet=process_tweet, extract_features=extract_features):\n",
    "    '''\n",
    "    Input: \n",
    "        tweet: a list of words for one tweet\n",
    "        freqs: a dictionary corresponding to the frequencies of each tuple (word, label)\n",
    "    Output: \n",
    "        x: a feature vector of dimension (1,7)\n",
    "    '''\n",
    "    # process_tweet tokenizes, stems, and removes stopwords\n",
    "    word_l = process_tweet(tweet)\n",
    "    \n",
    "    # 7 elements in the form of a 1 x 7 vector\n",
    "    x = np.zeros((1, 7)) \n",
    "    \n",
    "    #bias term is set to 1\n",
    "    x[0,0] = 1    \n",
    "\n",
    "    # Extract original features   \n",
    "    prep = extract_features(tweet,freqs,process_tweet)\n",
    "    x[0,1] = prep[0,1]\n",
    "    x[0,2] = prep[0,2]\n",
    "    \n",
    "    # x3: 'no' in tweet\n",
    "    negation = ['no','not','never','n\\'t','none', 'nothing', 'nobody', 'neither', 'nowhere']\n",
    "    for no in negation:\n",
    "        if no in tweet:\n",
    "            x[0,3] = 1\n",
    "            break\n",
    "\n",
    "    # x4: 1st and 2nd pronouns count\n",
    "    pronoun = [\n",
    "    # First-person singular\n",
    "    \"i\", \"me\", \"my\", \"mine\", \"myself\",\n",
    "    # First-person plural\n",
    "    \"we\", \"us\", \"our\", \"ours\", \"ourselves\",\n",
    "    # Second-person\n",
    "    \"you\", \"your\", \"yours\", \"yourself\", \"yourselves\"\n",
    "    ]\n",
    "    for word in pronoun:\n",
    "        if word in tweet: x[0,4] +=1\n",
    "    \n",
    "    # x5: '!' in doc\n",
    "    if '!' in tweet: x[0,5] = 1\n",
    "\n",
    "    # x6: ln(word count)\n",
    "    x[0,6] = np.log2(len(word_l))   \n",
    "        \n",
    "    assert(x.shape == (1, 7))\n",
    "    return x"
   ]
  },
  {
   "attachments": {},
   "cell_type": "markdown",
   "metadata": {},
   "source": [
    "## Part III - Logistic regression \n",
    "\n",
    "### Part III.1 - Sigmoid\n",
    "You will learn to use logistic regression for text classification. \n",
    "* The sigmoid function is defined as: \n",
    "\n",
    "$$ \\sigma(z) = \\frac{1}{1+\\exp^{-z}} \\tag{1}$$\n",
    "\n",
    "It maps the input 'z' to a value that ranges between 0 and 1, and so it can be treated as a probability. \n",
    "\n",
    "<div style=\"width:image width px; font-size:100%; text-align:center;\"><img src='./sigmoid_function.png' alt=\"alternate text\" width=\"width\" height=\"height\" style=\"width:800px;height:400px;\"/> </div>"
   ]
  },
  {
   "cell_type": "code",
   "execution_count": 11,
   "metadata": {},
   "outputs": [],
   "source": [
    "def sigmoid(z): \n",
    "    '''\n",
    "    Input:\n",
    "        z: is the input (can be a scalar or an array)\n",
    "    Output:\n",
    "        h: the sigmoid of z\n",
    "    ''' \n",
    "    h = 1. / (1. + np.exp(-z))\n",
    "    return h"
   ]
  },
  {
   "attachments": {},
   "cell_type": "markdown",
   "metadata": {},
   "source": [
    "### PART III.2 - Logistic regression\n",
    "\n",
    "Logistic regression takes a regular linear regression, and applies a sigmoid to the output of the linear regression.\n",
    "\n",
    "#### Regression (logit)\n",
    "$$z = w_0 + w_1 x_1 + w_2 x_2 + \\ldots + w_n x_n$$\n",
    "In our case $n$ is equal to $2$.\n",
    "\n",
    "#### The prediction\n",
    "$$ y_{\\text{pred}} = \\sigma(z) = \\frac{1}{1+\\exp^{-z}}$$\n",
    "\n",
    "#### Loss function (binary log-loss)\n",
    "$$J(w) = -\\frac{1}{m} \\sum_{i=1}^m y^{(i)}\\log (y_{\\text{pred}}^{(i)}) + (1-y^{(i)})\\log (1-y_{\\text{pred}}^{(i)})$$\n",
    "* $w = (w_0, w_1, w_2)$ is model parameters\n",
    "* $m$ is the number of training examples\n",
    "* $y^{(i)}$ is the actual label of training example 'i'.\n",
    "* $h(z^{(i)})$ is the model's prediction for the training example 'i'.\n",
    "\n",
    "The goal of a training process is to minimize the loss function $J(w)$ on the training set.\n"
   ]
  },
  {
   "attachments": {},
   "cell_type": "markdown",
   "id": "1a0cbc99",
   "metadata": {},
   "source": [
    "#### Gradient descent\n",
    "\n",
    "<div style=\"width:image width px; font-size:100%; text-align:center;\"><img src='./gradient_descent.png' alt=\"alternate text\" width=\"width\" height=\"height\" style=\"width:800px;height:400px;\"/> </div>\n",
    "\n",
    "Compute the gradient\n",
    "$$\\dfrac{\\partial J}{\\partial w_j} (w) = \\frac{1}{m} \\sum_{i=1}^m(y_{\\text{pred}}^{(i)}-y^{(i)})x^{(i)}_j$$\n",
    "Update the weights $w$\n",
    "$$w_j = w_j - \\alpha \\dfrac{\\partial J}{\\partial w_j} (w)$$\n",
    "\n",
    "#### Matrix form and implementation\n",
    "* $w$ has dimensions (n+1, 1), where 'n' is the number of features, and there is one more element for the bias term $w_0$\n",
    "* The 'logits', 'z', are calculated by multiplying the feature matrix $X$ with the weight vector $w$ i.e. $z = Xw$\n",
    "    * $X$ has dimensions (m, n+1) \n",
    "    * $w$: has dimensions (n+1, 1)\n",
    "    * $z$: has dimensions (m, 1)\n",
    "* The prediction $y_{\\text{pred}}$, is calculated by applying the sigmoid to $z$, and has dimensions (m,1).\n",
    "* The cost function $J$ in its vector form\n",
    "$$J = -\\frac{1}{m} \\times \\left(y^T \\cdot log(y_{\\text{pred}}) + (1-y)^T \\cdot log(1 - y_{\\text{pred}}) \\right)$$\n",
    "* The update of $w$ is also vectorized\n",
    "$$w = w - \\frac{\\alpha}{m} \\times \\left( X^T \\cdot \\left(y_{\\text{pred}} - y\\right) \\right)$$\n",
    "\n"
   ]
  },
  {
   "cell_type": "code",
   "execution_count": 12,
   "metadata": {},
   "outputs": [],
   "source": [
    "import matplotlib.pyplot as plt\n",
    "\n",
    "def gradient_descent_logistic(x, y, theta, alpha, num_iters):\n",
    "    '''\n",
    "    Input:\n",
    "        x: matrix of features which is (m,n+1)\n",
    "        y: corresponding labels of the input matrix x, dimensions (m,1)\n",
    "        theta: weight vector of dimension (n+1,1)\n",
    "        alpha: learning rate\n",
    "        num_iters: number of iterations you want to train your model for\n",
    "    Output:\n",
    "        J: the final cost\n",
    "        theta: your final weight vector\n",
    "    Hint: you might want to print the cost to make sure that it is going down.\n",
    "    '''\n",
    "    # get 'm', the number of rows in matrix X\n",
    "    m = len(x)\n",
    "    losses = []\n",
    "    for i in range(0, num_iters):\n",
    "        \n",
    "        # get z, the dot product of x and theta\n",
    "        z = np.dot(x, theta)\n",
    "        \n",
    "        # get the sigmoid of z\n",
    "        h = sigmoid(z)\n",
    "        \n",
    "        # calculate the cost function\n",
    "        J = - (np.dot(y.T, np.log(h)) + np.dot((1-y).T, np.log(1-h))) / float(m)\n",
    "        losses.append(float(J))\n",
    "        # update the weights theta\n",
    "        theta = theta - (alpha * np.dot(x.T, (h-y))) / float(m)\n",
    "    \n",
    "    J = float(J)\n",
    "    \n",
    "    # plot the loss function\n",
    "    iter_list = np.arange(1, num_iters + 1, 1)\n",
    "    plt.plot(iter_list, losses, color='green', label='loss')\n",
    "    plt.xlabel('number of iterations')\n",
    "    plt.ylabel('loss')\n",
    "    plt.legend()\n",
    "    plt.show()\n",
    "\n",
    "    return J, theta"
   ]
  },
  {
   "cell_type": "markdown",
   "metadata": {},
   "source": [
    "#### Expected output\n",
    "```\n",
    "The cost after training is 0.67094970.\n",
    "The resulting vector of weights is [4.1e-07, 0.00035658, 7.309e-05]\n",
    "```"
   ]
  },
  {
   "attachments": {},
   "cell_type": "markdown",
   "metadata": {},
   "source": [
    "### PART III.3 - Logistic Regression training\n",
    "\n",
    "* Stack the features for all training examples into a matrix X. \n",
    "* Call gradient_descent_logistic function."
   ]
  },
  {
   "cell_type": "markdown",
   "id": "aeea64a1",
   "metadata": {},
   "source": [
    "#### Training the 2 features model"
   ]
  },
  {
   "cell_type": "code",
   "execution_count": 28,
   "metadata": {},
   "outputs": [
    {
     "name": "stderr",
     "output_type": "stream",
     "text": [
      "C:\\Users\\ACER\\AppData\\Local\\Temp\\ipykernel_28348\\3353328855.py:29: DeprecationWarning: Conversion of an array with ndim > 0 to a scalar is deprecated, and will error in future. Ensure you extract a single element from your array before performing this operation. (Deprecated NumPy 1.25.)\n",
      "  losses.append(float(J))\n",
      "C:\\Users\\ACER\\AppData\\Local\\Temp\\ipykernel_28348\\3353328855.py:33: DeprecationWarning: Conversion of an array with ndim > 0 to a scalar is deprecated, and will error in future. Ensure you extract a single element from your array before performing this operation. (Deprecated NumPy 1.25.)\n",
      "  J = float(J)\n"
     ]
    },
    {
     "data": {
      "image/png": "[encoded data removed]",
      "text/plain": [
       "<Figure size 640x480 with 1 Axes>"
      ]
     },
     "metadata": {},
     "output_type": "display_data"
    },
    {
     "name": "stdout",
     "output_type": "stream",
     "text": [
      "The cost after training is 0.10157921.\n",
      "The resulting vector of weights is [np.float64(3e-07), np.float64(0.00127323), np.float64(-0.001111)]\n"
     ]
    }
   ],
   "source": [
    "# collect the features 'x' and stack them into a matrix 'X'\n",
    "X = np.zeros((len(train_x), 3))\n",
    "for i in range(len(train_x)):\n",
    "    X[i, :]= extract_features(train_x[i], freqs)\n",
    "\n",
    "# training labels corresponding to X\n",
    "Y = train_y\n",
    "\n",
    "# Apply gradient descent\n",
    "J, w = gradient_descent_logistic(X, Y, np.zeros((3, 1)), 1e-9, 10000)\n",
    "print(f\"The cost after training is {J:.8f}.\")\n",
    "print(f\"The resulting vector of weights is {[round(t, 8) for t in np.squeeze(w)]}\")"
   ]
  },
  {
   "cell_type": "markdown",
   "id": "148107c0",
   "metadata": {},
   "source": [
    "#### Training the 6 features model"
   ]
  },
  {
   "cell_type": "code",
   "execution_count": 24,
   "id": "e6199984",
   "metadata": {},
   "outputs": [
    {
     "name": "stderr",
     "output_type": "stream",
     "text": [
      "C:\\Users\\ACER\\AppData\\Local\\Temp\\ipykernel_28348\\3353328855.py:29: DeprecationWarning: Conversion of an array with ndim > 0 to a scalar is deprecated, and will error in future. Ensure you extract a single element from your array before performing this operation. (Deprecated NumPy 1.25.)\n",
      "  losses.append(float(J))\n",
      "C:\\Users\\ACER\\AppData\\Local\\Temp\\ipykernel_28348\\3353328855.py:33: DeprecationWarning: Conversion of an array with ndim > 0 to a scalar is deprecated, and will error in future. Ensure you extract a single element from your array before performing this operation. (Deprecated NumPy 1.25.)\n",
      "  J = float(J)\n"
     ]
    },
    {
     "data": {
      "image/png": "[encoded data removed]",
      "text/plain": [
       "<Figure size 640x480 with 1 Axes>"
      ]
     },
     "metadata": {},
     "output_type": "display_data"
    },
    {
     "name": "stdout",
     "output_type": "stream",
     "text": [
      "The cost after training is 0.10157916.\n",
      "The resulting vector of weights is [np.float64(3e-07), np.float64(0.00127323), np.float64(-0.001111), np.float64(-1e-08), np.float64(6.9e-07), np.float64(1.5e-07), np.float64(7.4e-07)]\n"
     ]
    }
   ],
   "source": [
    "# ===========================================\n",
    "## UPDATED FEATURE ENGINEERING WITH 6 FEATURES\n",
    "# collect the features 'x' and stack them into a matrix 'X'\n",
    "X = np.zeros((len(train_x), 7))\n",
    "for i in range(len(train_x)):\n",
    "    X[i, :]= extract_features_2(train_x[i], freqs)\n",
    "\n",
    "# training labels corresponding to X\n",
    "Y = train_y\n",
    "\n",
    "# Apply gradient descent\n",
    "J_2, w_2 = gradient_descent_logistic(X, Y, np.zeros((7, 1)), 1e-9, 10000)\n",
    "print(f\"The cost after training is {J:.8f}.\")\n",
    "print(f\"The resulting vector of weights is {[round(t, 8) for t in np.squeeze(w)]}\")"
   ]
  },
  {
   "cell_type": "markdown",
   "id": "0c668ab5",
   "metadata": {},
   "source": [
    "Note: If we set the iteration at 100000, you might encounter the problem dividing by zero in the log. Correct this issue."
   ]
  },
  {
   "cell_type": "code",
   "execution_count": 29,
   "id": "b079b432",
   "metadata": {},
   "outputs": [],
   "source": [
    "# Save the weights (a numpy array) in a binary .npy format.\n",
    "np.save(\"sentiment_analysis_logistic_weights.npy\",w)"
   ]
  },
  {
   "cell_type": "code",
   "execution_count": 26,
   "id": "211f075c",
   "metadata": {},
   "outputs": [],
   "source": [
    "np.save(\"sentiment_analysis_logistic_weights_2.npy\",w_2)"
   ]
  },
  {
   "cell_type": "code",
   "execution_count": 30,
   "id": "20f9949f",
   "metadata": {},
   "outputs": [
    {
     "data": {
      "text/plain": [
       "(array([[ 3.03801795e-07],\n",
       "        [ 1.27323059e-03],\n",
       "        [-1.11100055e-03]]),\n",
       " array([[ 3.03800917e-07],\n",
       "        [ 1.27322980e-03],\n",
       "        [-1.11100113e-03],\n",
       "        [-9.47450210e-09],\n",
       "        [ 6.89837807e-07],\n",
       "        [ 1.46027080e-07],\n",
       "        [ 7.41083303e-07]]))"
      ]
     },
     "execution_count": 30,
     "metadata": {},
     "output_type": "execute_result"
    }
   ],
   "source": [
    "w = np.load(\"sentiment_analysis_logistic_weights.npy\")\n",
    "w_2 = np.load(\"sentiment_analysis_logistic_weights_2.npy\")\n",
    "w, w_2"
   ]
  },
  {
   "cell_type": "code",
   "execution_count": 5,
   "id": "c13cc8e6",
   "metadata": {},
   "outputs": [
    {
     "name": "stderr",
     "output_type": "stream",
     "text": [
      "c:\\Users\\Admin\\.conda\\envs\\course_nlp_env\\lib\\site-packages\\ipykernel_launcher.py:10: MatplotlibDeprecationWarning: Axes3D(fig) adding itself to the figure is deprecated since 3.4. Pass the keyword argument auto_add_to_figure=False and use fig.add_axes(ax) to suppress this warning. The default value of auto_add_to_figure will change to False in mpl3.5 and True values will no longer work in 3.6.  This is consistent with other Axes classes.\n",
      "  # Remove the CWD from sys.path while we load stuff.\n"
     ]
    },
    {
     "data": {
      "image/png": "[encoded data removed]",
      "text/plain": [
       "<Figure size 640x480 with 1 Axes>"
      ]
     },
     "metadata": {},
     "output_type": "display_data"
    }
   ],
   "source": [
    "# Plot the decision boundary\n",
    "x1 = np.arange(0, 10000, 10)\n",
    "x2 = np.arange(0, 10000, 10)\n",
    "\n",
    "x1, x2 = np.meshgrid(x1, x2)\n",
    "params = np.squeeze(w)\n",
    "g = params[0] + params[1] * x1 + params[2] * x2\n",
    "\n",
    "fig = plt.figure()\n",
    "ax = Axes3D(fig)\n",
    "ax.plot_surface(x1, x2, g)\n",
    "plt.xlabel('x1')\n",
    "plt.ylabel('x2')\n",
    "plt.show()"
   ]
  },
  {
   "attachments": {},
   "cell_type": "markdown",
   "metadata": {},
   "source": [
    "#### Write a function to predict whether a tweet is positive or negative.\n",
    "* Given a tweet, process it, then extract the features.\n",
    "* Apply the model's learned weights $w$ on the features to get the logits.\n",
    "* Apply the sigmoid to the logits to get the prediction (a value between 0 and 1).\n",
    "\n",
    "$$y_{pred} = \\sigma(X \\cdot w)$$"
   ]
  },
  {
   "cell_type": "code",
   "execution_count": 36,
   "metadata": {},
   "outputs": [],
   "source": [
    "def predict_tweet(tweet, freqs, theta):\n",
    "    '''\n",
    "    Input: \n",
    "        tweet: a string\n",
    "        freqs: a dictionary corresponding to the frequencies of each tuple (word, label)\n",
    "        theta: (n+1,1) vector of weights\n",
    "    Output: \n",
    "        y_pred: the probability of a tweet being positive or negative\n",
    "    '''\n",
    "\n",
    "    # extract the features of the tweet and store it into x\n",
    "    if theta.shape[0] == 3:\n",
    "        x = extract_features(tweet, freqs)\n",
    "    elif theta.shape[0] == 7:\n",
    "        x = extract_features_2(tweet, freqs)\n",
    "    # make the prediction using x and theta\n",
    "    y_pred = sigmoid(np.dot(x, theta))\n",
    "    \n",
    "    return y_pred"
   ]
  },
  {
   "cell_type": "code",
   "execution_count": 40,
   "metadata": {
    "lines_to_next_cell": 2
   },
   "outputs": [
    {
     "name": "stdout",
     "output_type": "stream",
     "text": [
      "I am happy -> 0.546432\n",
      "I am bad -> 0.489459\n",
      "this movie should have been great. -> 0.539413\n",
      "great -> 0.538728\n",
      "great great -> 0.576993\n",
      "great great great -> 0.614357\n",
      "great great great great -> 0.650420\n"
     ]
    },
    {
     "name": "stderr",
     "output_type": "stream",
     "text": [
      "C:\\Users\\ACER\\AppData\\Local\\Temp\\ipykernel_28348\\2369403868.py:3: DeprecationWarning: Conversion of an array with ndim > 0 to a scalar is deprecated, and will error in future. Ensure you extract a single element from your array before performing this operation. (Deprecated NumPy 1.25.)\n",
      "  print( '%s -> %f' % (tweet, predict_tweet(tweet, freqs, w_2)))\n"
     ]
    }
   ],
   "source": [
    "# Run this cell to test your function\n",
    "for tweet in ['I am happy', 'I am bad', 'this movie should have been great.', 'great', 'great great', 'great great great', 'great great great great']:\n",
    "    print( '%s -> %f' % (tweet, predict_tweet(tweet, freqs, w_2)))    "
   ]
  },
  {
   "cell_type": "code",
   "execution_count": 34,
   "metadata": {},
   "outputs": [
    {
     "data": {
      "text/plain": [
       "array([[0.50387954]])"
      ]
     },
     "execution_count": 34,
     "metadata": {},
     "output_type": "execute_result"
    }
   ],
   "source": [
    "# Feel free to check the sentiment of your own tweet below\n",
    "my_tweet = 'I am so hot'\n",
    "predict_tweet(my_tweet, freqs, w)"
   ]
  },
  {
   "attachments": {},
   "cell_type": "markdown",
   "metadata": {},
   "source": [
    "#### Determine the model precision \n",
    "* Use your 'predict_tweet' function to make predictions on each tweet in the test set.\n",
    "* If the prediction is > 0.5, set the model's classification 'y_hat' to 1, otherwise set the model's classification 'y_hat' to 0. 0.5 plays a role of the decision threshold here.\n",
    "* A prediction is accurate when the y_hat equals the test_y.  Sum up all the instances when they are equal and divide by $n$.\n"
   ]
  },
  {
   "cell_type": "code",
   "execution_count": 37,
   "metadata": {},
   "outputs": [],
   "source": [
    "def test_logistic_regression(test_x, test_y, freqs, theta, predict_tweet=predict_tweet):\n",
    "    \"\"\"\n",
    "    Input: \n",
    "        test_x: a list of tweets\n",
    "        test_y: (m, 1) vector with the corresponding labels for the list of tweets\n",
    "        freqs: a dictionary with the frequency of each pair (or tuple)\n",
    "        theta: weight vector of dimension (3, 1)\n",
    "    Output: \n",
    "        accuracy: (# of tweets classified correctly) / (total # of tweets)\n",
    "    \"\"\"   \n",
    "    # the list for storing predictions\n",
    "    y_hat = list()\n",
    "    \n",
    "    for tweet in test_x:\n",
    "        # get the label prediction for the tweet\n",
    "        y_pred = predict_tweet(tweet, freqs, theta)\n",
    "        \n",
    "        if y_pred > 0.5:\n",
    "            # append 1.0 to the list\n",
    "            y_hat.append(1.0)\n",
    "        else:\n",
    "            # append 0 to the list\n",
    "            y_hat.append(0.0)\n",
    "\n",
    "    # With the above implementation, y_hat is a list, but test_y is (m,1) array\n",
    "    # convert both to one-dimensional arrays in order to compare them using the '==' operator\n",
    "    accuracy = np.sum(y_hat == np.squeeze(test_y)) / len(test_y)    \n",
    "    return accuracy"
   ]
  },
  {
   "cell_type": "code",
   "execution_count": 38,
   "metadata": {},
   "outputs": [
    {
     "name": "stdout",
     "output_type": "stream",
     "text": [
      "Logistic regression model's accuracy using 2 features = 0.9960\n",
      "Logistic regression model's accuracy using 6 features = 0.9960\n"
     ]
    }
   ],
   "source": [
    "tmp_accuracy = test_logistic_regression(test_x, test_y, freqs, w)\n",
    "print(f\"Logistic regression model's accuracy using 2 features = {tmp_accuracy:.4f}\")\n",
    "tmp_accuracy = test_logistic_regression(test_x, test_y, freqs, w_2)\n",
    "print(f\"Logistic regression model's accuracy using 6 features = {tmp_accuracy:.4f}\")"
   ]
  },
  {
   "cell_type": "markdown",
   "id": "9949ade2",
   "metadata": {},
   "source": [
    "#### Performance comparison"
   ]
  },
  {
   "cell_type": "code",
   "execution_count": 41,
   "id": "3cb29ec9",
   "metadata": {},
   "outputs": [
    {
     "name": "stdout",
     "output_type": "stream",
     "text": [
      "=== Model 1 (x1,x2) ===\n",
      "Accuracy: 0.996\n",
      "F1 Score: 0.996011964107677\n",
      "ROC AUC: 0.9999450000000001\n",
      "Confusion Matrix:\n",
      " [[993   7]\n",
      " [  1 999]]\n",
      "Classification Report:\n",
      "               precision    recall  f1-score   support\n",
      "\n",
      "         0.0       1.00      0.99      1.00      1000\n",
      "         1.0       0.99      1.00      1.00      1000\n",
      "\n",
      "    accuracy                           1.00      2000\n",
      "   macro avg       1.00      1.00      1.00      2000\n",
      "weighted avg       1.00      1.00      1.00      2000\n",
      "\n",
      "\n",
      "\n",
      "=== Model 2 (x1-x6) ===\n",
      "Accuracy: 0.996\n",
      "F1 Score: 0.996011964107677\n",
      "ROC AUC: 0.9999450000000001\n",
      "Confusion Matrix:\n",
      " [[993   7]\n",
      " [  1 999]]\n",
      "Classification Report:\n",
      "               precision    recall  f1-score   support\n",
      "\n",
      "         0.0       1.00      0.99      1.00      1000\n",
      "         1.0       0.99      1.00      1.00      1000\n",
      "\n",
      "    accuracy                           1.00      2000\n",
      "   macro avg       1.00      1.00      1.00      2000\n",
      "weighted avg       1.00      1.00      1.00      2000\n",
      "\n",
      "\n",
      "\n"
     ]
    },
    {
     "data": {
      "image/png": "[encoded data removed]",
      "text/plain": [
       "<Figure size 700x500 with 1 Axes>"
      ]
     },
     "metadata": {},
     "output_type": "display_data"
    }
   ],
   "source": [
    "from sklearn.metrics import (\n",
    "    accuracy_score, f1_score, roc_auc_score, roc_curve,\n",
    "    confusion_matrix, classification_report\n",
    ")\n",
    "\n",
    "# Generate predictions and probabilities for Model 1 (2 features)\n",
    "y_prob_m1 = []\n",
    "y_pred_m1 = []\n",
    "for tweet in test_x:\n",
    "    prob = predict_tweet(tweet, freqs, w)\n",
    "    y_prob_m1.append(prob[0])\n",
    "    y_pred_m1.append(1 if prob > 0.5 else 0)\n",
    "\n",
    "# Generate predictions and probabilities for Model 2 (6 features)\n",
    "y_prob_m2 = []\n",
    "y_pred_m2 = []\n",
    "for tweet in test_x:\n",
    "    prob = predict_tweet(tweet, freqs, w_2)\n",
    "    y_prob_m2.append(prob[0])\n",
    "    y_pred_m2.append(1 if prob > 0.5 else 0)\n",
    "\n",
    "# Convert to numpy arrays for sklearn compatibility\n",
    "y_prob_m1 = np.array(y_prob_m1)\n",
    "y_pred_m1 = np.array(y_pred_m1)\n",
    "y_prob_m2 = np.array(y_prob_m2)\n",
    "y_pred_m2 = np.array(y_pred_m2)\n",
    "\n",
    "def evaluate_model(y_test, y_pred, y_prob, label=\"Model\"):\n",
    "    print(f\"=== {label} ===\")\n",
    "    print(\"Accuracy:\", accuracy_score(y_test, y_pred))\n",
    "    print(\"F1 Score:\", f1_score(y_test, y_pred))\n",
    "    print(\"ROC AUC:\", roc_auc_score(y_test, y_prob))\n",
    "    print(\"Confusion Matrix:\\n\", confusion_matrix(y_test, y_pred))\n",
    "    print(\"Classification Report:\\n\", classification_report(y_test, y_pred))\n",
    "    print(\"\\n\")\n",
    "\n",
    "evaluate_model(test_y, y_pred_m1, y_prob_m1, \"Model 1 (x1,x2)\")\n",
    "evaluate_model(test_y, y_pred_m2, y_prob_m2, \"Model 2 (x1-x6)\")\n",
    "\n",
    "# --- ROC Curve Comparison ---\n",
    "fpr1, tpr1, _ = roc_curve(test_y, y_prob_m1)\n",
    "fpr2, tpr2, _ = roc_curve(test_y, y_prob_m2)\n",
    "\n",
    "plt.figure(figsize=(7,5))\n",
    "plt.plot(fpr1, tpr1, label=\"Model 1 (x1,x2)\")\n",
    "plt.plot(fpr2, tpr2, label=\"Model 2 (x1-x6)\")\n",
    "plt.plot([0,1],[0,1],'k--')\n",
    "plt.xlabel(\"False Positive Rate\")\n",
    "plt.ylabel(\"True Positive Rate\")\n",
    "plt.title(\"ROC Curve Comparison\")\n",
    "plt.legend()\n",
    "plt.show()\n"
   ]
  },
  {
   "cell_type": "markdown",
   "id": "105acdb5",
   "metadata": {},
   "source": [
    "#### Conclusion: The addition of the 4 new features bring no improvement in performance"
   ]
  },
  {
   "attachments": {},
   "cell_type": "markdown",
   "metadata": {},
   "source": [
    "### PART III.4 - Error Analysis\n",
    "\n",
    "Analyze certain examples that our logistic regression algorithm predicted wrongly"
   ]
  },
  {
   "cell_type": "code",
   "execution_count": 37,
   "metadata": {},
   "outputs": [
    {
     "name": "stdout",
     "output_type": "stream",
     "text": [
      "Label Predicted Tweet\n",
      "THE TWEET IS: I'm playing Brain Dots : ) #BrainDots\n",
      "http://t.co/UGQzOx0huu\n",
      "THE PROCESSED TWEET IS: [\"i'm\", 'play', 'brain', 'dot', 'braindot']\n",
      "1\t0.47906383\tb\"i'm play brain dot braindot\"\n",
      "THE TWEET IS: I'm playing Brain Dots : ) #BrainDots http://t.co/aOKldo3GMj http://t.co/xWCM9qyRG5\n",
      "THE PROCESSED TWEET IS: [\"i'm\", 'play', 'brain', 'dot', 'braindot']\n",
      "1\t0.47906383\tb\"i'm play brain dot braindot\"\n",
      "THE TWEET IS: I'm playing Brain Dots : ) #BrainDots http://t.co/R2JBO8iNww http://t.co/ow5BBwdEMY\n",
      "THE PROCESSED TWEET IS: [\"i'm\", 'play', 'brain', 'dot', 'braindot']\n",
      "1\t0.47906383\tb\"i'm play brain dot braindot\"\n",
      "THE TWEET IS: @msarosh Uff Itna Miss karhy thy ap :p\n",
      "THE PROCESSED TWEET IS: ['uff', 'itna', 'miss', 'karhi', 'thi', 'ap', ':p']\n",
      "1\t0.47156052\tb'uff itna miss karhi thi ap :p'\n",
      "THE TWEET IS: @phenomyoutube u probs had more fun with david than me : (\n",
      "THE PROCESSED TWEET IS: ['u', 'prob', 'fun', 'david']\n",
      "0\t0.53271796\tb'u prob fun david'\n",
      "THE TWEET IS: pats jay : (\n",
      "THE PROCESSED TWEET IS: ['pat', 'jay']\n",
      "0\t0.50095618\tb'pat jay'\n",
      "THE TWEET IS: @bae_ts WHATEVER STIL L YOUNG &gt;:-(\n",
      "THE PROCESSED TWEET IS: ['whatev', 'stil', 'l', 'young', '>:-(']\n",
      "0\t0.50033235\tb'whatev stil l young >:-('\n",
      "THE TWEET IS: my beloved grandmother : ( https://t.co/wt4oXq5xCf\n",
      "THE PROCESSED TWEET IS: ['belov', 'grandmoth']\n",
      "0\t0.50000008\tb'belov grandmoth'\n",
      "THE TWEET IS: @CHEDA_KHAN Thats life. I get calls from people I havent seen in 20 years and its always favours : (\n",
      "THE PROCESSED TWEET IS: ['that', 'life', 'get', 'call', 'peopl', 'havent', 'seen', '20', 'year', 'alway', 'favour']\n",
      "0\t0.50604028\tb'that life get call peopl havent seen 20 year alway favour'\n",
      "THE TWEET IS: Sr. Financial Analyst - Expedia, Inc.: (#Bellevue, WA) http://t.co/ktknMhvwCI #Finance #ExpediaJobs #Job #Jobs #Hiring\n",
      "THE PROCESSED TWEET IS: ['sr', 'financi', 'analyst', 'expedia', 'inc', 'bellevu', 'wa', 'financ', 'expediajob', 'job', 'job', 'hire']\n",
      "0\t0.51648276\tb'sr financi analyst expedia inc bellevu wa financ expediajob job job hire'\n",
      "THE TWEET IS: @ITVCentral #Midlands Yes thanks for the depressing weather forecast, where the word 'rain' was mentioned several times :-(\n",
      "THE PROCESSED TWEET IS: ['midland', 'ye', 'thank', 'depress', 'weather', 'forecast', 'word', 'rain', 'mention', 'sever', 'time', ':-(']\n",
      "0\t0.53599423\tb'midland ye thank depress weather forecast word rain mention sever time :-('\n"
     ]
    }
   ],
   "source": [
    "# Some error analysis done for you\n",
    "print('Label Predicted Tweet')\n",
    "for x,y in zip(test_x,test_y):\n",
    "    y_hat = predict_tweet(x, freqs, w)\n",
    "\n",
    "    if np.abs(y - (y_hat > 0.5)) > 0:\n",
    "        print('THE TWEET IS:', x)\n",
    "        print('THE PROCESSED TWEET IS:', process_tweet(x))\n",
    "        print('%d\\t%0.8f\\t%s' % (y, y_hat, ' '.join(process_tweet(x)).encode('ascii', 'ignore')))"
   ]
  },
  {
   "cell_type": "code",
   "execution_count": 42,
   "metadata": {},
   "outputs": [
    {
     "name": "stdout",
     "output_type": "stream",
     "text": [
      "['hope', 'first', 'nlp', 'session', 'bore']\n",
      "[[0.51539903]]\n",
      "Positive sentiment\n"
     ]
    }
   ],
   "source": [
    "# Test results\n",
    "my_tweet = 'Hopefully my very first NLP session is not too boring to you \" !!!'\n",
    "print(process_tweet(my_tweet))\n",
    "y_hat = predict_tweet(my_tweet, freqs, w)\n",
    "print(y_hat)\n",
    "if y_hat > 0.5:\n",
    "    print('Positive sentiment')\n",
    "else: \n",
    "    print('Negative sentiment')"
   ]
  },
  {
   "cell_type": "markdown",
   "id": "3ca45eac",
   "metadata": {},
   "source": [
    "## Naive Bayes"
   ]
  },
  {
   "cell_type": "markdown",
   "id": "8e0d5435",
   "metadata": {},
   "source": [
    "### Mathematical formulation: to complete"
   ]
  },
  {
   "cell_type": "code",
   "execution_count": 2,
   "id": "cc2cedcd",
   "metadata": {},
   "outputs": [],
   "source": [
    "import pickle"
   ]
  },
  {
   "cell_type": "code",
   "execution_count": 3,
   "id": "fe20400b",
   "metadata": {},
   "outputs": [],
   "source": [
    "# Get the frequencies saved in logistic_regression_model.pkl\n",
    "with open('logistic_regression_model.pkl', 'rb') as file:\n",
    "    logistic_params = pickle.load(file)\n",
    "\n",
    "# Extract the objects from the dictionary\n",
    "model_name = logistic_params['model']\n",
    "weights = logistic_params['weights']\n",
    "loss = logistic_params['loss_history']\n",
    "freqs = logistic_params['frequencies']"
   ]
  },
  {
   "cell_type": "code",
   "execution_count": 87,
   "id": "64b2f3fd",
   "metadata": {},
   "outputs": [],
   "source": [
    "def count_tweets(result, tweets, ys):\n",
    "    '''\n",
    "    Input:\n",
    "        result: a dictionary that will be used to map each pair to its frequency\n",
    "        tweets: a list of tweets\n",
    "        ys: a list corresponding to the sentiment of each tweet (either 0 or 1)\n",
    "    Output:\n",
    "        result: a dictionary mapping each pair to its frequency\n",
    "    '''\n",
    "    ### START CODE HERE ###\n",
    "    for y, tweet in zip(ys, tweets):\n",
    "        for word in process_tweet(tweet):\n",
    "            # define the key, which is the word and label tuple\n",
    "            pair = (word, y)\n",
    "            \n",
    "            # if the key exists in the dictionary, increment the count\n",
    "            if pair in result:\n",
    "                result[pair] += 1\n",
    "\n",
    "            # else, if the key is new, add it to the dictionary and set the count to 1\n",
    "            else:\n",
    "                result[pair] = 1\n",
    "    ### END CODE HERE ###\n",
    "\n",
    "    return result"
   ]
  },
  {
   "cell_type": "code",
   "execution_count": 106,
   "id": "1186135b",
   "metadata": {},
   "outputs": [],
   "source": [
    "# Build the freqs dictionary for later uses\n",
    "freqs = count_tweets({}, train_x, np.squeeze(train_y))"
   ]
  },
  {
   "cell_type": "code",
   "execution_count": 107,
   "id": "d7fa83b2",
   "metadata": {},
   "outputs": [
    {
     "data": {
      "text/plain": [
       "{('followfriday', 1.0): 23,\n",
       " ('top', 1.0): 30,\n",
       " ('engag', 1.0): 7,\n",
       " ('member', 1.0): 14,\n",
       " ('commun', 1.0): 27,\n",
       " ('week', 1.0): 72,\n",
       " (':)', 1.0): 2960,\n",
       " ('hey', 1.0): 60,\n",
       " ('jame', 1.0): 7,\n",
       " ('odd', 1.0): 2,\n",
       " (':/', 1.0): 5,\n",
       " ('pleas', 1.0): 81,\n",
       " ('call', 1.0): 27,\n",
       " ('contact', 1.0): 4,\n",
       " ('centr', 1.0): 1,\n",
       " ('02392441234', 1.0): 1,\n",
       " ('abl', 1.0): 6,\n",
       " ('assist', 1.0): 1,\n",
       " ('mani', 1.0): 28,\n",
       " ('thank', 1.0): 522,\n",
       " ('listen', 1.0): 15,\n",
       " ('last', 1.0): 39,\n",
       " ('night', 1.0): 55,\n",
       " ('bleed', 1.0): 2,\n",
       " ('amaz', 1.0): 41,\n",
       " ('track', 1.0): 5,\n",
       " ('scotland', 1.0): 2,\n",
       " ('congrat', 1.0): 15,\n",
       " ('yeaaah', 1.0): 1,\n",
       " ('yipppi', 1.0): 1,\n",
       " ('accnt', 1.0): 2,\n",
       " ('verifi', 1.0): 2,\n",
       " ('rqst', 1.0): 1,\n",
       " ('succeed', 1.0): 1,\n",
       " ('got', 1.0): 57,\n",
       " ('blue', 1.0): 8,\n",
       " ('tick', 1.0): 1,\n",
       " ('mark', 1.0): 1,\n",
       " ('fb', 1.0): 4,\n",
       " ('profil', 1.0): 2,\n",
       " ('15', 1.0): 4,\n",
       " ('day', 1.0): 187,\n",
       " ('one', 1.0): 92,\n",
       " ('irresist', 1.0): 2,\n",
       " ('flipkartfashionfriday', 1.0): 16,\n",
       " ('like', 1.0): 187,\n",
       " ('keep', 1.0): 55,\n",
       " ('love', 1.0): 336,\n",
       " ('custom', 1.0): 4,\n",
       " ('wait', 1.0): 55,\n",
       " ('long', 1.0): 27,\n",
       " ('hope', 1.0): 115,\n",
       " ('enjoy', 1.0): 61,\n",
       " ('happi', 1.0): 162,\n",
       " ('friday', 1.0): 91,\n",
       " ('lwwf', 1.0): 1,\n",
       " ('second', 1.0): 8,\n",
       " ('thought', 1.0): 21,\n",
       " ('’', 1.0): 17,\n",
       " ('enough', 1.0): 16,\n",
       " ('time', 1.0): 101,\n",
       " ('dd', 1.0): 1,\n",
       " ('new', 1.0): 114,\n",
       " ('short', 1.0): 6,\n",
       " ('enter', 1.0): 9,\n",
       " ('system', 1.0): 2,\n",
       " ('sheep', 1.0): 1,\n",
       " ('must', 1.0): 14,\n",
       " ('buy', 1.0): 10,\n",
       " ('jgh', 1.0): 4,\n",
       " ('go', 1.0): 123,\n",
       " ('bayan', 1.0): 1,\n",
       " (':d', 1.0): 523,\n",
       " ('bye', 1.0): 5,\n",
       " ('act', 1.0): 6,\n",
       " ('mischiev', 1.0): 1,\n",
       " ('etl', 1.0): 1,\n",
       " ('layer', 1.0): 1,\n",
       " ('in-hous', 1.0): 1,\n",
       " ('wareh', 1.0): 1,\n",
       " ('app', 1.0): 12,\n",
       " ('katamari', 1.0): 1,\n",
       " ('well', 1.0): 66,\n",
       " ('…', 1.0): 31,\n",
       " ('name', 1.0): 12,\n",
       " ('impli', 1.0): 1,\n",
       " (':p', 1.0): 105,\n",
       " ('influenc', 1.0): 16,\n",
       " ('big', 1.0): 28,\n",
       " ('...', 1.0): 228,\n",
       " ('juici', 1.0): 3,\n",
       " ('selfi', 1.0): 11,\n",
       " ('follow', 1.0): 385,\n",
       " ('u', 1.0): 204,\n",
       " ('back', 1.0): 139,\n",
       " ('perfect', 1.0): 17,\n",
       " ('alreadi', 1.0): 19,\n",
       " ('know', 1.0): 128,\n",
       " (\"what'\", 1.0): 14,\n",
       " ('great', 1.0): 135,\n",
       " ('opportun', 1.0): 17,\n",
       " ('junior', 1.0): 2,\n",
       " ('triathlet', 1.0): 1,\n",
       " ('age', 1.0): 2,\n",
       " ('12', 1.0): 5,\n",
       " ('13', 1.0): 5,\n",
       " ('gatorad', 1.0): 1,\n",
       " ('seri', 1.0): 4,\n",
       " ('get', 1.0): 166,\n",
       " ('entri', 1.0): 3,\n",
       " ('lay', 1.0): 3,\n",
       " ('greet', 1.0): 4,\n",
       " ('card', 1.0): 6,\n",
       " ('rang', 1.0): 2,\n",
       " ('print', 1.0): 4,\n",
       " ('today', 1.0): 91,\n",
       " ('job', 1.0): 34,\n",
       " (':-)', 1.0): 552,\n",
       " (\"friend'\", 1.0): 3,\n",
       " ('lunch', 1.0): 3,\n",
       " ('yummm', 1.0): 1,\n",
       " ('nostalgia', 1.0): 1,\n",
       " ('tb', 1.0): 1,\n",
       " ('ku', 1.0): 1,\n",
       " ('id', 1.0): 8,\n",
       " ('conflict', 1.0): 1,\n",
       " ('help', 1.0): 40,\n",
       " (\"here'\", 1.0): 20,\n",
       " ('screenshot', 1.0): 2,\n",
       " ('work', 1.0): 89,\n",
       " ('hi', 1.0): 154,\n",
       " ('liv', 1.0): 2,\n",
       " ('hello', 1.0): 49,\n",
       " ('need', 1.0): 62,\n",
       " ('someth', 1.0): 25,\n",
       " ('fm', 1.0): 2,\n",
       " ('twitter', 1.0): 25,\n",
       " ('—', 1.0): 22,\n",
       " ('sure', 1.0): 38,\n",
       " ('thing', 1.0): 48,\n",
       " ('dm', 1.0): 34,\n",
       " ('x', 1.0): 50,\n",
       " (\"i'v\", 1.0): 25,\n",
       " ('heard', 1.0): 9,\n",
       " ('four', 1.0): 5,\n",
       " ('season', 1.0): 5,\n",
       " ('pretti', 1.0): 17,\n",
       " ('dope', 1.0): 2,\n",
       " ('penthous', 1.0): 1,\n",
       " ('obv', 1.0): 1,\n",
       " ('gobigorgohom', 1.0): 1,\n",
       " ('fun', 1.0): 45,\n",
       " (\"y'all\", 1.0): 4,\n",
       " ('yeah', 1.0): 30,\n",
       " ('suppos', 1.0): 6,\n",
       " ('lol', 1.0): 48,\n",
       " ('chat', 1.0): 9,\n",
       " ('bit', 1.0): 16,\n",
       " ('youth', 1.0): 14,\n",
       " ('💅🏽', 1.0): 1,\n",
       " ('💋', 1.0): 2,\n",
       " ('seen', 1.0): 6,\n",
       " ('year', 1.0): 33,\n",
       " ('rest', 1.0): 9,\n",
       " ('goe', 1.0): 4,\n",
       " ('quickli', 1.0): 3,\n",
       " ('bed', 1.0): 8,\n",
       " ('music', 1.0): 15,\n",
       " ('fix', 1.0): 6,\n",
       " ('dream', 1.0): 17,\n",
       " ('spiritu', 1.0): 1,\n",
       " ('ritual', 1.0): 1,\n",
       " ('festiv', 1.0): 7,\n",
       " ('népal', 1.0): 1,\n",
       " ('begin', 1.0): 4,\n",
       " ('line-up', 1.0): 4,\n",
       " ('left', 1.0): 10,\n",
       " ('see', 1.0): 157,\n",
       " ('sarah', 1.0): 4,\n",
       " ('send', 1.0): 18,\n",
       " ('us', 1.0): 96,\n",
       " ('email', 1.0): 22,\n",
       " ('bitsy@bitdefender.com', 1.0): 1,\n",
       " (\"we'll\", 1.0): 12,\n",
       " ('asap', 1.0): 5,\n",
       " ('kik', 1.0): 16,\n",
       " ('hatessuc', 1.0): 1,\n",
       " ('32429', 1.0): 1,\n",
       " ('kikm', 1.0): 1,\n",
       " ('lgbt', 1.0): 2,\n",
       " ('tinder', 1.0): 1,\n",
       " ('nsfw', 1.0): 1,\n",
       " ('akua', 1.0): 1,\n",
       " ('cumshot', 1.0): 1,\n",
       " ('come', 1.0): 63,\n",
       " ('hous', 1.0): 5,\n",
       " ('nsn_supplement', 1.0): 1,\n",
       " ('effect', 1.0): 2,\n",
       " ('press', 1.0): 1,\n",
       " ('releas', 1.0): 11,\n",
       " ('distribut', 1.0): 1,\n",
       " ('result', 1.0): 2,\n",
       " ('link', 1.0): 14,\n",
       " ('remov', 1.0): 3,\n",
       " ('pressreleas', 1.0): 1,\n",
       " ('newsdistribut', 1.0): 1,\n",
       " ('bam', 1.0): 44,\n",
       " ('bestfriend', 1.0): 50,\n",
       " ('lot', 1.0): 80,\n",
       " ('warsaw', 1.0): 44,\n",
       " ('<3', 1.0): 119,\n",
       " ('x46', 1.0): 1,\n",
       " ('everyon', 1.0): 45,\n",
       " ('watch', 1.0): 32,\n",
       " ('documentari', 1.0): 1,\n",
       " ('earthl', 1.0): 1,\n",
       " ('youtub', 1.0): 8,\n",
       " ('support', 1.0): 25,\n",
       " ('buuut', 1.0): 1,\n",
       " ('oh', 1.0): 44,\n",
       " ('look', 1.0): 111,\n",
       " ('forward', 1.0): 20,\n",
       " ('visit', 1.0): 25,\n",
       " ('next', 1.0): 37,\n",
       " ('letsgetmessi', 1.0): 1,\n",
       " ('jo', 1.0): 1,\n",
       " ('make', 1.0): 70,\n",
       " ('feel', 1.0): 33,\n",
       " ('better', 1.0): 40,\n",
       " ('never', 1.0): 31,\n",
       " ('anyon', 1.0): 7,\n",
       " ('kpop', 1.0): 1,\n",
       " ('flesh', 1.0): 1,\n",
       " ('good', 1.0): 191,\n",
       " ('girl', 1.0): 34,\n",
       " ('best', 1.0): 49,\n",
       " ('wish', 1.0): 29,\n",
       " ('reason', 1.0): 10,\n",
       " ('epic', 1.0): 1,\n",
       " ('soundtrack', 1.0): 1,\n",
       " ('shout', 1.0): 11,\n",
       " ('ad', 1.0): 10,\n",
       " ('video', 1.0): 30,\n",
       " ('playlist', 1.0): 5,\n",
       " ('im', 1.0): 41,\n",
       " ('twitch', 1.0): 7,\n",
       " ('leagu', 1.0): 6,\n",
       " ('1', 1.0): 63,\n",
       " ('4', 1.0): 23,\n",
       " ('would', 1.0): 70,\n",
       " ('dear', 1.0): 15,\n",
       " ('jordan', 1.0): 1,\n",
       " ('okay', 1.0): 31,\n",
       " ('fake', 1.0): 1,\n",
       " ('gameplay', 1.0): 1,\n",
       " (';)', 1.0): 22,\n",
       " ('haha', 1.0): 44,\n",
       " ('kid', 1.0): 13,\n",
       " ('stuff', 1.0): 11,\n",
       " ('exactli', 1.0): 5,\n",
       " ('product', 1.0): 11,\n",
       " ('line', 1.0): 6,\n",
       " ('etsi', 1.0): 1,\n",
       " ('shop', 1.0): 12,\n",
       " ('check', 1.0): 39,\n",
       " ('boxroomcraft', 1.0): 1,\n",
       " ('vacat', 1.0): 5,\n",
       " ('recharg', 1.0): 1,\n",
       " ('normal', 1.0): 5,\n",
       " ('charger', 1.0): 2,\n",
       " ('asleep', 1.0): 7,\n",
       " ('talk', 1.0): 38,\n",
       " ('sooo', 1.0): 6,\n",
       " ('someon', 1.0): 29,\n",
       " ('text', 1.0): 12,\n",
       " ('ye', 1.0): 60,\n",
       " ('bet', 1.0): 6,\n",
       " (\"he'll\", 1.0): 2,\n",
       " ('fit', 1.0): 2,\n",
       " ('hear', 1.0): 24,\n",
       " ('speech', 1.0): 1,\n",
       " ('piti', 1.0): 2,\n",
       " ('green', 1.0): 2,\n",
       " ('garden', 1.0): 5,\n",
       " ('midnight', 1.0): 1,\n",
       " ('sun', 1.0): 6,\n",
       " ('beauti', 1.0): 45,\n",
       " ('canal', 1.0): 1,\n",
       " ('dasvidaniya', 1.0): 1,\n",
       " ('till', 1.0): 16,\n",
       " ('scout', 1.0): 1,\n",
       " ('sg', 1.0): 1,\n",
       " ('futur', 1.0): 9,\n",
       " ('wlan', 1.0): 1,\n",
       " ('pro', 1.0): 4,\n",
       " ('confer', 1.0): 1,\n",
       " ('asia', 1.0): 1,\n",
       " ('chang', 1.0): 20,\n",
       " ('lollipop', 1.0): 1,\n",
       " ('🍭', 1.0): 1,\n",
       " ('nez', 1.0): 1,\n",
       " ('agnezmo', 1.0): 1,\n",
       " ('oley', 1.0): 1,\n",
       " ('mama', 1.0): 1,\n",
       " ('stand', 1.0): 6,\n",
       " ('stronger', 1.0): 1,\n",
       " ('god', 1.0): 14,\n",
       " ('misti', 1.0): 1,\n",
       " ('babi', 1.0): 17,\n",
       " ('cute', 1.0): 22,\n",
       " ('woohoo', 1.0): 3,\n",
       " (\"can't\", 1.0): 31,\n",
       " ('sign', 1.0): 9,\n",
       " ('yet', 1.0): 12,\n",
       " ('still', 1.0): 37,\n",
       " ('think', 1.0): 54,\n",
       " ('mka', 1.0): 5,\n",
       " ('liam', 1.0): 5,\n",
       " ('access', 1.0): 3,\n",
       " ('welcom', 1.0): 54,\n",
       " ('stat', 1.0): 51,\n",
       " ('arriv', 1.0): 57,\n",
       " ('unfollow', 1.0): 53,\n",
       " ('via', 1.0): 73,\n",
       " ('surpris', 1.0): 10,\n",
       " ('figur', 1.0): 5,\n",
       " ('happybirthdayemilybett', 1.0): 1,\n",
       " ('sweet', 1.0): 16,\n",
       " ('talent', 1.0): 4,\n",
       " ('2', 1.0): 41,\n",
       " ('plan', 1.0): 21,\n",
       " ('drain', 1.0): 1,\n",
       " ('gotta', 1.0): 4,\n",
       " ('timezon', 1.0): 1,\n",
       " ('parent', 1.0): 4,\n",
       " ('proud', 1.0): 11,\n",
       " ('least', 1.0): 14,\n",
       " ('mayb', 1.0): 17,\n",
       " ('sometim', 1.0): 11,\n",
       " ('grade', 1.0): 4,\n",
       " ('al', 1.0): 3,\n",
       " ('grand', 1.0): 4,\n",
       " ('manila_bro', 1.0): 1,\n",
       " ('chosen', 1.0): 1,\n",
       " ('let', 1.0): 70,\n",
       " ('around', 1.0): 14,\n",
       " ('..', 1.0): 100,\n",
       " ('side', 1.0): 13,\n",
       " ('world', 1.0): 23,\n",
       " ('eh', 1.0): 2,\n",
       " ('take', 1.0): 30,\n",
       " ('care', 1.0): 12,\n",
       " ('final', 1.0): 24,\n",
       " ('fuck', 1.0): 20,\n",
       " ('weekend', 1.0): 61,\n",
       " ('real', 1.0): 18,\n",
       " ('x45', 1.0): 1,\n",
       " ('join', 1.0): 21,\n",
       " ('hushedcallwithfraydo', 1.0): 1,\n",
       " ('gift', 1.0): 7,\n",
       " ('yeahhh', 1.0): 1,\n",
       " ('hushedpinwithsammi', 1.0): 2,\n",
       " ('event', 1.0): 8,\n",
       " ('might', 1.0): 21,\n",
       " ('luv', 1.0): 4,\n",
       " ('realli', 1.0): 66,\n",
       " ('appreci', 1.0): 28,\n",
       " ('share', 1.0): 41,\n",
       " ('wow', 1.0): 14,\n",
       " ('tom', 1.0): 6,\n",
       " ('3', 1.0): 27,\n",
       " ('gym', 1.0): 3,\n",
       " ('monday', 1.0): 7,\n",
       " ('invit', 1.0): 15,\n",
       " ('scope', 1.0): 5,\n",
       " ('friend', 1.0): 43,\n",
       " ('nude', 1.0): 1,\n",
       " ('sleep', 1.0): 35,\n",
       " ('birthday', 1.0): 53,\n",
       " ('want', 1.0): 71,\n",
       " ('t-shirt', 1.0): 2,\n",
       " ('cool', 1.0): 29,\n",
       " ('haw', 1.0): 1,\n",
       " ('phela', 1.0): 1,\n",
       " ('mom', 1.0): 7,\n",
       " ('obvious', 1.0): 1,\n",
       " ('princ', 1.0): 1,\n",
       " ('charm', 1.0): 1,\n",
       " ('stage', 1.0): 2,\n",
       " ('luck', 1.0): 26,\n",
       " ('tyler', 1.0): 1,\n",
       " ('hipster', 1.0): 1,\n",
       " ('glass', 1.0): 3,\n",
       " ('marti', 1.0): 2,\n",
       " ('glad', 1.0): 41,\n",
       " ('done', 1.0): 40,\n",
       " ('afternoon', 1.0): 7,\n",
       " ('read', 1.0): 28,\n",
       " ('kahfi', 1.0): 1,\n",
       " ('finish', 1.0): 15,\n",
       " ('ohmyg', 1.0): 1,\n",
       " ('yaya', 1.0): 3,\n",
       " ('dub', 1.0): 1,\n",
       " ('stalk', 1.0): 2,\n",
       " ('ig', 1.0): 3,\n",
       " ('gondooo', 1.0): 1,\n",
       " ('moo', 1.0): 2,\n",
       " ('tologooo', 1.0): 1,\n",
       " ('becom', 1.0): 8,\n",
       " ('detail', 1.0): 8,\n",
       " ('zzz', 1.0): 1,\n",
       " ('xx', 1.0): 33,\n",
       " ('physiotherapi', 1.0): 1,\n",
       " ('hashtag', 1.0): 3,\n",
       " ('💪', 1.0): 1,\n",
       " ('monica', 1.0): 1,\n",
       " ('miss', 1.0): 17,\n",
       " ('sound', 1.0): 20,\n",
       " ('morn', 1.0): 68,\n",
       " (\"that'\", 1.0): 49,\n",
       " ('x43', 1.0): 1,\n",
       " ('definit', 1.0): 20,\n",
       " ('tri', 1.0): 34,\n",
       " ('tonight', 1.0): 15,\n",
       " ('took', 1.0): 7,\n",
       " ('advic', 1.0): 6,\n",
       " ('treviso', 1.0): 1,\n",
       " ('concert', 1.0): 23,\n",
       " ('citi', 1.0): 26,\n",
       " ('countri', 1.0): 22,\n",
       " (\"i'll\", 1.0): 74,\n",
       " ('start', 1.0): 56,\n",
       " ('fine', 1.0): 7,\n",
       " ('gorgeou', 1.0): 9,\n",
       " ('xo', 1.0): 2,\n",
       " ('oven', 1.0): 2,\n",
       " ('roast', 1.0): 1,\n",
       " ('garlic', 1.0): 1,\n",
       " ('oliv', 1.0): 1,\n",
       " ('oil', 1.0): 4,\n",
       " ('dri', 1.0): 4,\n",
       " ('tomato', 1.0): 1,\n",
       " ('basil', 1.0): 1,\n",
       " ('centuri', 1.0): 1,\n",
       " ('tuna', 1.0): 1,\n",
       " ('right', 1.0): 38,\n",
       " ('atchya', 1.0): 1,\n",
       " ('even', 1.0): 26,\n",
       " ('almost', 1.0): 8,\n",
       " ('chanc', 1.0): 3,\n",
       " ('cheer', 1.0): 18,\n",
       " ('po', 1.0): 3,\n",
       " ('ice', 1.0): 6,\n",
       " ('cream', 1.0): 6,\n",
       " ('agre', 1.0): 13,\n",
       " ('100', 1.0): 6,\n",
       " ('heheheh', 1.0): 2,\n",
       " ('that', 1.0): 10,\n",
       " ('point', 1.0): 11,\n",
       " ('stay', 1.0): 21,\n",
       " ('home', 1.0): 20,\n",
       " ('soon', 1.0): 38,\n",
       " ('promis', 1.0): 4,\n",
       " ('web', 1.0): 4,\n",
       " ('whatsapp', 1.0): 3,\n",
       " ('volta', 1.0): 1,\n",
       " ('funcionar', 1.0): 1,\n",
       " ('com', 1.0): 2,\n",
       " ('iphon', 1.0): 7,\n",
       " ('jailbroken', 1.0): 1,\n",
       " ('later', 1.0): 12,\n",
       " ('34', 1.0): 3,\n",
       " ('min', 1.0): 7,\n",
       " ('leia', 1.0): 1,\n",
       " ('appear', 1.0): 3,\n",
       " ('hologram', 1.0): 1,\n",
       " ('r2d2', 1.0): 1,\n",
       " ('w', 1.0): 16,\n",
       " ('messag', 1.0): 9,\n",
       " ('obi', 1.0): 1,\n",
       " ('wan', 1.0): 1,\n",
       " ('sit', 1.0): 7,\n",
       " ('luke', 1.0): 4,\n",
       " ('inter', 1.0): 1,\n",
       " ('ucl', 1.0): 1,\n",
       " ('arsen', 1.0): 2,\n",
       " ('small', 1.0): 2,\n",
       " ('team', 1.0): 24,\n",
       " ('pass', 1.0): 10,\n",
       " ('🚂', 1.0): 1,\n",
       " ('dewsburi', 1.0): 2,\n",
       " ('railway', 1.0): 1,\n",
       " ('station', 1.0): 4,\n",
       " ('dew', 1.0): 1,\n",
       " ('west', 1.0): 1,\n",
       " ('yorkshir', 1.0): 2,\n",
       " ('430', 1.0): 1,\n",
       " ('smh', 1.0): 2,\n",
       " ('9:25', 1.0): 1,\n",
       " ('live', 1.0): 23,\n",
       " ('strang', 1.0): 4,\n",
       " ('imagin', 1.0): 5,\n",
       " ('megan', 1.0): 1,\n",
       " ('masaantoday', 1.0): 4,\n",
       " ('a4', 1.0): 3,\n",
       " ('shweta', 1.0): 1,\n",
       " ('tripathi', 1.0): 1,\n",
       " ('5', 1.0): 15,\n",
       " ('20', 1.0): 5,\n",
       " ('kurta', 1.0): 3,\n",
       " ('half', 1.0): 6,\n",
       " ('number', 1.0): 11,\n",
       " ('wsalelov', 1.0): 14,\n",
       " ('ah', 1.0): 12,\n",
       " ('larri', 1.0): 3,\n",
       " ('anyway', 1.0): 14,\n",
       " ('kinda', 1.0): 12,\n",
       " ('goood', 1.0): 1,\n",
       " ('life', 1.0): 36,\n",
       " ('enn', 1.0): 1,\n",
       " ('could', 1.0): 25,\n",
       " ('warmup', 1.0): 1,\n",
       " ('15th', 1.0): 2,\n",
       " ('bath', 1.0): 6,\n",
       " ('dum', 1.0): 2,\n",
       " ('andar', 1.0): 1,\n",
       " ('ram', 1.0): 1,\n",
       " ('sampath', 1.0): 1,\n",
       " ('sona', 1.0): 1,\n",
       " ('mohapatra', 1.0): 1,\n",
       " ('samantha', 1.0): 1,\n",
       " ('edward', 1.0): 1,\n",
       " ('mein', 1.0): 1,\n",
       " ('tulan', 1.0): 1,\n",
       " ('razi', 1.0): 2,\n",
       " ('wah', 1.0): 2,\n",
       " ('josh', 1.0): 1,\n",
       " ('alway', 1.0): 48,\n",
       " ('smile', 1.0): 47,\n",
       " ('pictur', 1.0): 7,\n",
       " ('16.20', 1.0): 1,\n",
       " ('giveitup', 1.0): 1,\n",
       " ('given', 1.0): 3,\n",
       " ('ga', 1.0): 3,\n",
       " ('subsidi', 1.0): 1,\n",
       " ('initi', 1.0): 2,\n",
       " ('propos', 1.0): 3,\n",
       " ('delight', 1.0): 4,\n",
       " ('yesterday', 1.0): 4,\n",
       " ('x42', 1.0): 1,\n",
       " ('lmaoo', 1.0): 2,\n",
       " ('song', 1.0): 16,\n",
       " ('ever', 1.0): 19,\n",
       " ('shall', 1.0): 5,\n",
       " ('littl', 1.0): 29,\n",
       " ('throwback', 1.0): 3,\n",
       " ('outli', 1.0): 1,\n",
       " ('island', 1.0): 2,\n",
       " ('cheung', 1.0): 1,\n",
       " ('chau', 1.0): 1,\n",
       " ('mui', 1.0): 1,\n",
       " ('wo', 1.0): 1,\n",
       " ('total', 1.0): 6,\n",
       " ('differ', 1.0): 10,\n",
       " ('kfckitchentour', 1.0): 2,\n",
       " ('kitchen', 1.0): 3,\n",
       " ('clean', 1.0): 1,\n",
       " (\"i'm\", 1.0): 140,\n",
       " ('cusp', 1.0): 1,\n",
       " ('test', 1.0): 7,\n",
       " ('water', 1.0): 7,\n",
       " ('reward', 1.0): 1,\n",
       " ('arummzz', 1.0): 2,\n",
       " (\"let'\", 1.0): 20,\n",
       " ('drive', 1.0): 9,\n",
       " ('travel', 1.0): 19,\n",
       " ('yogyakarta', 1.0): 3,\n",
       " ('jeep', 1.0): 3,\n",
       " ('indonesia', 1.0): 3,\n",
       " ('instamood', 1.0): 3,\n",
       " ('wanna', 1.0): 23,\n",
       " ('skype', 1.0): 3,\n",
       " ('may', 1.0): 16,\n",
       " ('nice', 1.0): 71,\n",
       " ('friendli', 1.0): 1,\n",
       " ('pretend', 1.0): 2,\n",
       " ('film', 1.0): 8,\n",
       " ('congratul', 1.0): 9,\n",
       " ('winner', 1.0): 3,\n",
       " ('cheesydelight', 1.0): 1,\n",
       " ('contest', 1.0): 5,\n",
       " ('address', 1.0): 8,\n",
       " ('guy', 1.0): 48,\n",
       " ('market', 1.0): 5,\n",
       " ('24/7', 1.0): 1,\n",
       " ('regret', 1.0): 4,\n",
       " ('14', 1.0): 1,\n",
       " ('hour', 1.0): 24,\n",
       " ('leav', 1.0): 12,\n",
       " ('without', 1.0): 9,\n",
       " ('delay', 1.0): 1,\n",
       " ('actual', 1.0): 13,\n",
       " ('easi', 1.0): 7,\n",
       " ('guess', 1.0): 8,\n",
       " ('train', 1.0): 7,\n",
       " ('wd', 1.0): 1,\n",
       " ('shift', 1.0): 4,\n",
       " ('engin', 1.0): 1,\n",
       " ('etc', 1.0): 2,\n",
       " ('sunburn', 1.0): 1,\n",
       " ('peel', 1.0): 2,\n",
       " ('blog', 1.0): 27,\n",
       " ('huge', 1.0): 9,\n",
       " ('warm', 1.0): 4,\n",
       " ('☆', 1.0): 3,\n",
       " ('complet', 1.0): 10,\n",
       " ('triangl', 1.0): 2,\n",
       " ('northern', 1.0): 1,\n",
       " ('ireland', 1.0): 2,\n",
       " ('sight', 1.0): 1,\n",
       " ('smthng', 1.0): 2,\n",
       " ('fr', 1.0): 3,\n",
       " ('hug', 1.0): 11,\n",
       " ('xoxo', 1.0): 3,\n",
       " ('uu', 1.0): 1,\n",
       " ('jaann', 1.0): 1,\n",
       " ('topnewfollow', 1.0): 2,\n",
       " ('connect', 1.0): 13,\n",
       " ('wonder', 1.0): 26,\n",
       " ('made', 1.0): 38,\n",
       " ('fluffi', 1.0): 1,\n",
       " ('insid', 1.0): 7,\n",
       " ('pirouett', 1.0): 1,\n",
       " ('moos', 1.0): 1,\n",
       " ('trip', 1.0): 12,\n",
       " ('philli', 1.0): 1,\n",
       " ('decemb', 1.0): 2,\n",
       " (\"i'd\", 1.0): 13,\n",
       " ('dude', 1.0): 6,\n",
       " ('x41', 1.0): 1,\n",
       " ('question', 1.0): 15,\n",
       " ('flaw', 1.0): 1,\n",
       " ('pain', 1.0): 8,\n",
       " ('negat', 1.0): 1,\n",
       " ('strength', 1.0): 2,\n",
       " ('went', 1.0): 10,\n",
       " ('solo', 1.0): 4,\n",
       " ('move', 1.0): 9,\n",
       " ('fav', 1.0): 11,\n",
       " ('nirvana', 1.0): 1,\n",
       " ('smell', 1.0): 2,\n",
       " ('teen', 1.0): 3,\n",
       " ('spirit', 1.0): 1,\n",
       " ('rip', 1.0): 3,\n",
       " ('ami', 1.0): 4,\n",
       " ('winehous', 1.0): 1,\n",
       " ('coupl', 1.0): 5,\n",
       " ('tomhiddleston', 1.0): 1,\n",
       " ('elizabetholsen', 1.0): 1,\n",
       " ('yaytheylookgreat', 1.0): 1,\n",
       " ('goodnight', 1.0): 18,\n",
       " ('vid', 1.0): 8,\n",
       " ('wake', 1.0): 10,\n",
       " ('gonna', 1.0): 16,\n",
       " ('shoot', 1.0): 5,\n",
       " ('itti', 1.0): 2,\n",
       " ('bitti', 1.0): 2,\n",
       " ('teeni', 1.0): 2,\n",
       " ('bikini', 1.0): 3,\n",
       " ('much', 1.0): 73,\n",
       " ('4th', 1.0): 4,\n",
       " ('togeth', 1.0): 6,\n",
       " ('end', 1.0): 13,\n",
       " ('xfile', 1.0): 1,\n",
       " ('content', 1.0): 3,\n",
       " ('rain', 1.0): 18,\n",
       " ('fabul', 1.0): 4,\n",
       " ('fantast', 1.0): 9,\n",
       " ('♡', 1.0): 12,\n",
       " ('jb', 1.0): 1,\n",
       " ('forev', 1.0): 5,\n",
       " ('belieb', 1.0): 3,\n",
       " ('nighti', 1.0): 1,\n",
       " ('bug', 1.0): 2,\n",
       " ('bite', 1.0): 1,\n",
       " ('bracelet', 1.0): 2,\n",
       " ('idea', 1.0): 24,\n",
       " ('foundri', 1.0): 1,\n",
       " ('game', 1.0): 23,\n",
       " ('sens', 1.0): 6,\n",
       " ('pic', 1.0): 21,\n",
       " ('ef', 1.0): 1,\n",
       " ('phone', 1.0): 16,\n",
       " ('woot', 1.0): 2,\n",
       " ('derek', 1.0): 1,\n",
       " ('use', 1.0): 32,\n",
       " ('parkshar', 1.0): 1,\n",
       " ('gloucestershir', 1.0): 1,\n",
       " ('aaaahhh', 1.0): 1,\n",
       " ('man', 1.0): 16,\n",
       " ('traffic', 1.0): 2,\n",
       " ('stress', 1.0): 4,\n",
       " ('reliev', 1.0): 1,\n",
       " (\"how'r\", 1.0): 1,\n",
       " ('arbeloa', 1.0): 1,\n",
       " ('turn', 1.0): 14,\n",
       " ('17', 1.0): 2,\n",
       " ('omg', 1.0): 13,\n",
       " ('say', 1.0): 43,\n",
       " ('europ', 1.0): 1,\n",
       " ('rise', 1.0): 2,\n",
       " ('find', 1.0): 22,\n",
       " ('hard', 1.0): 9,\n",
       " ('believ', 1.0): 7,\n",
       " ('uncount', 1.0): 1,\n",
       " ('coz', 1.0): 2,\n",
       " ('unlimit', 1.0): 1,\n",
       " ('cours', 1.0): 11,\n",
       " ('teamposit', 1.0): 1,\n",
       " ('aldub', 1.0): 2,\n",
       " ('☕', 1.0): 3,\n",
       " ('rita', 1.0): 2,\n",
       " ('info', 1.0): 11,\n",
       " (\"we'd\", 1.0): 4,\n",
       " ('way', 1.0): 34,\n",
       " ('boy', 1.0): 13,\n",
       " ('x40', 1.0): 1,\n",
       " ('true', 1.0): 19,\n",
       " ('sethi', 1.0): 2,\n",
       " ('high', 1.0): 6,\n",
       " ('exe', 1.0): 1,\n",
       " ('skeem', 1.0): 1,\n",
       " ('saam', 1.0): 1,\n",
       " ('peopl', 1.0): 43,\n",
       " ('polit', 1.0): 2,\n",
       " ('izzat', 1.0): 1,\n",
       " ('wese', 1.0): 1,\n",
       " ('trust', 1.0): 7,\n",
       " ('khawateen', 1.0): 1,\n",
       " ('k', 1.0): 8,\n",
       " ('sath', 1.0): 2,\n",
       " ('mana', 1.0): 1,\n",
       " ('kar', 1.0): 1,\n",
       " ('deya', 1.0): 1,\n",
       " ('sort', 1.0): 7,\n",
       " ('smart', 1.0): 5,\n",
       " ('hair', 1.0): 7,\n",
       " ('tbh', 1.0): 5,\n",
       " ('jacob', 1.0): 2,\n",
       " ('g', 1.0): 8,\n",
       " ('upgrad', 1.0): 2,\n",
       " ('tee', 1.0): 3,\n",
       " ('famili', 1.0): 14,\n",
       " ('person', 1.0): 14,\n",
       " ('two', 1.0): 15,\n",
       " ('convers', 1.0): 6,\n",
       " ('onlin', 1.0): 4,\n",
       " ('mclaren', 1.0): 1,\n",
       " ('fridayfeel', 1.0): 5,\n",
       " ('tgif', 1.0): 8,\n",
       " ('squar', 1.0): 1,\n",
       " ('enix', 1.0): 1,\n",
       " ('bissmillah', 1.0): 1,\n",
       " ('ya', 1.0): 19,\n",
       " ('allah', 1.0): 3,\n",
       " (\"we'r\", 1.0): 26,\n",
       " ('socent', 1.0): 1,\n",
       " ('startup', 1.0): 2,\n",
       " ('drop', 1.0): 9,\n",
       " ('your', 1.0): 3,\n",
       " ('arnd', 1.0): 1,\n",
       " ('town', 1.0): 3,\n",
       " ('basic', 1.0): 4,\n",
       " ('piss', 1.0): 2,\n",
       " ('cup', 1.0): 4,\n",
       " ('also', 1.0): 29,\n",
       " ('terribl', 1.0): 2,\n",
       " ('complic', 1.0): 1,\n",
       " ('discuss', 1.0): 2,\n",
       " ('snapchat', 1.0): 31,\n",
       " ('lynettelow', 1.0): 1,\n",
       " ('kikmenow', 1.0): 2,\n",
       " ('snapm', 1.0): 1,\n",
       " ('hot', 1.0): 20,\n",
       " ('amazon', 1.0): 1,\n",
       " ('kikmeguy', 1.0): 2,\n",
       " ('defin', 1.0): 2,\n",
       " ('grow', 1.0): 6,\n",
       " ('sport', 1.0): 4,\n",
       " ('rt', 1.0): 9,\n",
       " ('rakyat', 1.0): 1,\n",
       " ('write', 1.0): 11,\n",
       " ('sinc', 1.0): 11,\n",
       " ('mention', 1.0): 18,\n",
       " ('fli', 1.0): 5,\n",
       " ('fish', 1.0): 4,\n",
       " ('promot', 1.0): 3,\n",
       " ('post', 1.0): 16,\n",
       " ('cyber', 1.0): 1,\n",
       " ('ourdaughtersourprid', 1.0): 3,\n",
       " ('mypapamyprid', 1.0): 2,\n",
       " ('papa', 1.0): 1,\n",
       " ('coach', 1.0): 2,\n",
       " ('posit', 1.0): 3,\n",
       " ('kha', 1.0): 1,\n",
       " ('atleast', 1.0): 2,\n",
       " ('x39', 1.0): 1,\n",
       " ('mango', 1.0): 1,\n",
       " (\"lassi'\", 1.0): 1,\n",
       " (\"monty'\", 1.0): 1,\n",
       " ('marvel', 1.0): 2,\n",
       " ('though', 1.0): 16,\n",
       " ('suspect', 1.0): 3,\n",
       " ('meant', 1.0): 2,\n",
       " ('24', 1.0): 3,\n",
       " ('hr', 1.0): 2,\n",
       " ('touch', 1.0): 7,\n",
       " ('kepler', 1.0): 3,\n",
       " ('452b', 1.0): 4,\n",
       " ('chalna', 1.0): 1,\n",
       " ('hai', 1.0): 7,\n",
       " ('thankyou', 1.0): 12,\n",
       " ('hazel', 1.0): 1,\n",
       " ('food', 1.0): 10,\n",
       " ('brooklyn', 1.0): 1,\n",
       " ('pta', 1.0): 2,\n",
       " ('awak', 1.0): 8,\n",
       " ('okayi', 1.0): 2,\n",
       " ('awww', 1.0): 12,\n",
       " ('ha', 1.0): 18,\n",
       " ('doc', 1.0): 1,\n",
       " ('splendid', 1.0): 1,\n",
       " ('spam', 1.0): 1,\n",
       " ('folder', 1.0): 1,\n",
       " ('amount', 1.0): 1,\n",
       " ('nigeria', 1.0): 1,\n",
       " ('claim', 1.0): 1,\n",
       " ('rted', 1.0): 1,\n",
       " ('leg', 1.0): 3,\n",
       " ('hurt', 1.0): 4,\n",
       " ('bad', 1.0): 14,\n",
       " ('mine', 1.0): 11,\n",
       " ('saturday', 1.0): 5,\n",
       " ('thaaank', 1.0): 1,\n",
       " ('puhon', 1.0): 1,\n",
       " ('happinesss', 1.0): 1,\n",
       " ('tnc', 1.0): 1,\n",
       " ('prior', 1.0): 1,\n",
       " ('notif', 1.0): 2,\n",
       " ('probabl', 1.0): 8,\n",
       " ('funni', 1.0): 16,\n",
       " ('2:22', 1.0): 1,\n",
       " ('fat', 1.0): 1,\n",
       " ('co', 1.0): 1,\n",
       " ('ate', 1.0): 4,\n",
       " ('yuna', 1.0): 2,\n",
       " ('tamesid', 1.0): 1,\n",
       " ('´', 1.0): 3,\n",
       " ('googl', 1.0): 5,\n",
       " ('account', 1.0): 17,\n",
       " ('scouser', 1.0): 1,\n",
       " ('everyth', 1.0): 10,\n",
       " ('zoe', 1.0): 1,\n",
       " ('mate', 1.0): 5,\n",
       " ('liter', 1.0): 6,\n",
       " (\"they'r\", 1.0): 10,\n",
       " ('samee', 1.0): 1,\n",
       " ('edgar', 1.0): 1,\n",
       " ('updat', 1.0): 12,\n",
       " ('log', 1.0): 3,\n",
       " ('bring', 1.0): 14,\n",
       " ('abe', 1.0): 1,\n",
       " ('meet', 1.0): 26,\n",
       " ('x38', 1.0): 1,\n",
       " ('sigh', 1.0): 3,\n",
       " ('dreamili', 1.0): 1,\n",
       " ('pout', 1.0): 1,\n",
       " ('eye', 1.0): 12,\n",
       " ('quacketyquack', 1.0): 6,\n",
       " ('happen', 1.0): 13,\n",
       " ('phil', 1.0): 1,\n",
       " ('em', 1.0): 2,\n",
       " ('del', 1.0): 1,\n",
       " ('rodder', 1.0): 1,\n",
       " ('els', 1.0): 8,\n",
       " ('play', 1.0): 37,\n",
       " ('newest', 1.0): 1,\n",
       " ('gamejam', 1.0): 1,\n",
       " ('irish', 1.0): 2,\n",
       " ('literatur', 1.0): 2,\n",
       " ('inaccess', 1.0): 2,\n",
       " (\"kareena'\", 1.0): 2,\n",
       " ('fan', 1.0): 21,\n",
       " ('brain', 1.0): 10,\n",
       " ('dot', 1.0): 8,\n",
       " ('braindot', 1.0): 8,\n",
       " ('fair', 1.0): 4,\n",
       " ('rush', 1.0): 1,\n",
       " ('either', 1.0): 10,\n",
       " ('brandi', 1.0): 1,\n",
       " ('18', 1.0): 5,\n",
       " ('carniv', 1.0): 1,\n",
       " ('men', 1.0): 8,\n",
       " ('put', 1.0): 11,\n",
       " ('mask', 1.0): 2,\n",
       " ('xavier', 1.0): 1,\n",
       " ('forneret', 1.0): 1,\n",
       " ('jennif', 1.0): 1,\n",
       " ('site', 1.0): 7,\n",
       " ('free', 1.0): 32,\n",
       " ('50.000', 1.0): 3,\n",
       " ('8', 1.0): 11,\n",
       " ('ball', 1.0): 7,\n",
       " ('pool', 1.0): 5,\n",
       " ('coin', 1.0): 5,\n",
       " ('edit', 1.0): 6,\n",
       " ('trish', 1.0): 1,\n",
       " ('♥', 1.0): 13,\n",
       " ('grate', 1.0): 5,\n",
       " ('three', 1.0): 8,\n",
       " ('comment', 1.0): 8,\n",
       " ('wakeup', 1.0): 1,\n",
       " ('besid', 1.0): 2,\n",
       " ('dirti', 1.0): 2,\n",
       " ('sex', 1.0): 4,\n",
       " ('lmaooo', 1.0): 1,\n",
       " ('😤', 1.0): 2,\n",
       " ('loui', 1.0): 4,\n",
       " (\"he'\", 1.0): 11,\n",
       " ('throw', 1.0): 3,\n",
       " ('caus', 1.0): 11,\n",
       " ('inspir', 1.0): 6,\n",
       " ('ff', 1.0): 40,\n",
       " ('twoof', 1.0): 3,\n",
       " ('gr8', 1.0): 1,\n",
       " ('wkend', 1.0): 3,\n",
       " ('kind', 1.0): 22,\n",
       " ('exhaust', 1.0): 2,\n",
       " ('word', 1.0): 17,\n",
       " ('cheltenham', 1.0): 1,\n",
       " ('area', 1.0): 4,\n",
       " ('kale', 1.0): 1,\n",
       " ('crisp', 1.0): 1,\n",
       " ('ruin', 1.0): 5,\n",
       " ('x37', 1.0): 1,\n",
       " ('open', 1.0): 12,\n",
       " ('worldwid', 1.0): 2,\n",
       " ('outta', 1.0): 1,\n",
       " ('sfvbeta', 1.0): 1,\n",
       " ('vantast', 1.0): 1,\n",
       " ('xcylin', 1.0): 1,\n",
       " ('bundl', 1.0): 1,\n",
       " ('show', 1.0): 20,\n",
       " ('internet', 1.0): 2,\n",
       " ('price', 1.0): 3,\n",
       " ('realisticli', 1.0): 1,\n",
       " ('pay', 1.0): 8,\n",
       " ('net', 1.0): 1,\n",
       " ('educ', 1.0): 1,\n",
       " ('power', 1.0): 6,\n",
       " ('weapon', 1.0): 1,\n",
       " ('nelson', 1.0): 1,\n",
       " ('mandela', 1.0): 1,\n",
       " ('recent', 1.0): 8,\n",
       " ('j', 1.0): 2,\n",
       " ('chenab', 1.0): 1,\n",
       " ('flow', 1.0): 5,\n",
       " ('pakistan', 1.0): 1,\n",
       " ('incredibleindia', 1.0): 1,\n",
       " ('teenchoic', 1.0): 7,\n",
       " ('choiceinternationalartist', 1.0): 7,\n",
       " ('superjunior', 1.0): 7,\n",
       " ('caught', 1.0): 4,\n",
       " ('first', 1.0): 41,\n",
       " ('salmon', 1.0): 1,\n",
       " ('super-blend', 1.0): 1,\n",
       " ('project', 1.0): 6,\n",
       " ('youth@bipolaruk.org.uk', 1.0): 1,\n",
       " ('awesom', 1.0): 35,\n",
       " ('stream', 1.0): 12,\n",
       " ('artist', 1.0): 2,\n",
       " ('alma', 1.0): 1,\n",
       " ('mater', 1.0): 1,\n",
       " ('highschoolday', 1.0): 1,\n",
       " ('clientvisit', 1.0): 1,\n",
       " ('faith', 1.0): 3,\n",
       " ('christian', 1.0): 1,\n",
       " ('school', 1.0): 9,\n",
       " ('lizaminnelli', 1.0): 1,\n",
       " ('upcom', 1.0): 2,\n",
       " ('uk', 1.0): 4,\n",
       " ('😄', 1.0): 3,\n",
       " ('singl', 1.0): 4,\n",
       " ('hill', 1.0): 4,\n",
       " ('everi', 1.0): 23,\n",
       " ('beat', 1.0): 7,\n",
       " ('wrong', 1.0): 9,\n",
       " ('readi', 1.0): 22,\n",
       " ('natur', 1.0): 1,\n",
       " ('pefumeri', 1.0): 1,\n",
       " ...}"
      ]
     },
     "execution_count": 107,
     "metadata": {},
     "output_type": "execute_result"
    }
   ],
   "source": [
    "freqs"
   ]
  },
  {
   "cell_type": "markdown",
   "id": "7ea74594",
   "metadata": {},
   "source": [
    "Rerun the first cells of the previous session to get the trainset and testset"
   ]
  },
  {
   "cell_type": "code",
   "execution_count": 113,
   "id": "5ae57f67",
   "metadata": {},
   "outputs": [],
   "source": [
    "def train_naive_bayes(freqs, train_x, train_y):\n",
    "    '''\n",
    "    Input:\n",
    "        freqs: dictionary from (word, label) to how often the word appears\n",
    "        train_x: training set of tweets\n",
    "        train_y: a list of labels {0, 1}\n",
    "    Output:\n",
    "        logprior = \\log \\dfrac{\\mathbb P(y=1)}{\\mathbb P(y=0)}\n",
    "        loglikelihood = \\log \\dfrac{\\mathbb P(w_i|y_i=1)}{\\mathbb P(w_i|y_i=0)} for each word w_i in the vocab\n",
    "    '''\n",
    "    loglikelihood = {}\n",
    "    logprior = 0\n",
    "\n",
    "    ### START CODE HERE ###\n",
    "\n",
    "    # calculate V, the number of unique words in the vocabulary\n",
    "    vocab = [key[0] for key in freqs]\n",
    "    V = len(set(vocab))    \n",
    "\n",
    "    # calculate N_pos, N_neg, V_pos, V_neg\n",
    "    N_pos = N_neg = 0\n",
    "    for pair in freqs.keys():\n",
    "        # if the label is positive (greater than zero)\n",
    "        if pair[1] > 0:\n",
    "\n",
    "            # Increment the number of positive words by the count for this (word, label) pair\n",
    "            N_pos += freqs[pair]\n",
    "\n",
    "        # else, the label is negative\n",
    "        else:\n",
    "\n",
    "            # increment the number of negative words by the count for this (word,label) pair\n",
    "            N_neg += freqs[pair]\n",
    "    \n",
    "    train_y_bis = np.squeeze(train_y)\n",
    "    # Calculate D, the number of documents\n",
    "    D = len(train_y)\n",
    "\n",
    "    # Calculate D_pos, the number of positive documents\n",
    "    D_pos = train_y_bis.tolist().count(1)\n",
    "\n",
    "    # Calculate D_neg, the number of negative documents\n",
    "    D_neg = train_y_bis.tolist().count(0)\n",
    "\n",
    "    # Calculate logprior\n",
    "    logprior = np.log(float(D_pos) / D_neg)\n",
    "    print(logprior)\n",
    "    \n",
    "    # For each word in the vocabulary...\n",
    "    for word in vocab:\n",
    "        # get the positive and negative frequency of the word\n",
    "        if (word, 1) in freqs.keys():\n",
    "            freq_pos = freqs[(word, 1.0)]\n",
    "        else:\n",
    "            freq_pos = 0\n",
    "        if (word, 0) in freqs.keys():\n",
    "            freq_neg = freqs[(word, 0.0)]\n",
    "        else:\n",
    "            freq_neg = 0\n",
    "\n",
    "        # calculate the probability that each word is positive, and negative\n",
    "        p_w_pos = float((freq_pos + 1)) / (N_pos + V)\n",
    "        p_w_neg = float((freq_neg + 1)) / (N_neg + V)\n",
    "\n",
    "        # calculate the log likelihood of the word\n",
    "        loglikelihood[word] = np.log(p_w_pos / p_w_neg)\n",
    "\n",
    "    ### END CODE HERE ###\n",
    "\n",
    "    return logprior, loglikelihood"
   ]
  },
  {
   "cell_type": "code",
   "execution_count": 114,
   "id": "12a91cbc",
   "metadata": {},
   "outputs": [
    {
     "name": "stdout",
     "output_type": "stream",
     "text": [
      "0.0\n",
      "0.0\n",
      "9161\n"
     ]
    }
   ],
   "source": [
    "logprior, loglikelihood = train_naive_bayes(freqs, train_x, train_y)\n",
    "print(logprior)\n",
    "print(len(loglikelihood))"
   ]
  },
  {
   "cell_type": "code",
   "execution_count": 116,
   "id": "7c97fd39",
   "metadata": {},
   "outputs": [],
   "source": [
    "def naive_bayes_predict(tweet, logprior, loglikelihood):\n",
    "    '''\n",
    "    Input:\n",
    "        tweet: a string\n",
    "        logprior: a number\n",
    "        loglikelihood: a dictionary of words mapping to numbers\n",
    "    Output:\n",
    "        p: the sum of all the logliklihoods of each word in the tweet (if found in the dictionary) + logprior (a number)\n",
    "\n",
    "    '''\n",
    "    ### START CODE HERE ###\n",
    "    # process the tweet to get a list of words\n",
    "    word_l = process_tweet(tweet)\n",
    "\n",
    "    # initialize probability to zero\n",
    "    p = 0\n",
    "\n",
    "    # add the logprior\n",
    "    p += logprior\n",
    "\n",
    "    for word in word_l:\n",
    "\n",
    "        # check if the word exists in the loglikelihood dictionary\n",
    "        if word in loglikelihood:\n",
    "            # add the log likelihood of that word to the probability\n",
    "            p += loglikelihood[word]\n",
    "\n",
    "    ### END CODE HERE ###\n",
    "\n",
    "    return p"
   ]
  },
  {
   "cell_type": "code",
   "execution_count": 117,
   "id": "9e970f55",
   "metadata": {},
   "outputs": [
    {
     "name": "stdout",
     "output_type": "stream",
     "text": [
      "The expected output is 1.557492820301094\n"
     ]
    }
   ],
   "source": [
    "# Experiment with your own tweet.\n",
    "my_tweet = 'She smiled.'\n",
    "p = naive_bayes_predict(my_tweet, logprior, loglikelihood)\n",
    "print('The expected output is', p)"
   ]
  },
  {
   "cell_type": "code",
   "execution_count": 123,
   "id": "f464ce62",
   "metadata": {},
   "outputs": [],
   "source": [
    "def test_naive_bayes(test_x, test_y, logprior, loglikelihood, naive_bayes_predict=naive_bayes_predict):\n",
    "    \"\"\"\n",
    "    Input:\n",
    "        test_x: A list of tweets\n",
    "        test_y: the corresponding labels for the list of tweets\n",
    "        logprior: the logprior\n",
    "        loglikelihood: a dictionary with the loglikelihoods for each word\n",
    "    Output:\n",
    "        accuracy: (# of tweets classified correctly)/(total # of tweets)\n",
    "    \"\"\"\n",
    "    accuracy = 0  # return this properly\n",
    "\n",
    "    ### START CODE HERE ###\n",
    "    y_hats = list()\n",
    "    for tweet in test_x:\n",
    "        # if the prediction is > 0\n",
    "        if naive_bayes_predict(tweet, logprior, loglikelihood) > 0.:\n",
    "            # the predicted class is 1\n",
    "            y_hat_i = 1\n",
    "        else:\n",
    "            # otherwise the predicted class is 0\n",
    "            y_hat_i = 0\n",
    "\n",
    "        # append the predicted class to the list y_hats\n",
    "        y_hats.append(y_hat_i)\n",
    "    \n",
    "    print(y_hats)\n",
    "    print(test_y)\n",
    "    # error is the average of the absolute values of the differences between y_hats and test_y\n",
    "    error = np.mean(np.absolute(y_hats - test_y))\n",
    "\n",
    "    # Accuracy is 1 minus the error\n",
    "    accuracy = 1.0 - error\n",
    "\n",
    "    ### END CODE HERE ###\n",
    "\n",
    "    return accuracy"
   ]
  },
  {
   "cell_type": "code",
   "execution_count": 125,
   "id": "b6c69f65",
   "metadata": {},
   "outputs": [
    {
     "name": "stdout",
     "output_type": "stream",
     "text": [
      "[1, 1, 1, 1, 1, 1, 1, 1, 1, 1, 1, 1, 1, 1, 1, 1, 1, 1, 1, 1, 1, 1, 1, 1, 1, 1, 1, 1, 1, 1, 1, 1, 1, 1, 1, 1, 1, 1, 1, 1, 1, 1, 1, 1, 1, 1, 1, 1, 1, 1, 1, 1, 1, 1, 1, 1, 1, 1, 1, 1, 1, 1, 1, 1, 1, 0, 1, 1, 1, 1, 1, 1, 1, 1, 1, 1, 1, 1, 1, 1, 1, 1, 1, 1, 1, 1, 1, 1, 1, 1, 1, 1, 1, 1, 1, 1, 1, 1, 1, 1, 1, 1, 1, 1, 1, 1, 1, 1, 1, 1, 1, 1, 1, 1, 1, 1, 1, 1, 1, 1, 1, 1, 1, 1, 1, 1, 1, 1, 1, 1, 1, 1, 1, 1, 1, 1, 1, 1, 1, 1, 1, 1, 1, 1, 1, 1, 1, 1, 1, 1, 1, 1, 1, 1, 1, 1, 1, 1, 1, 1, 1, 1, 1, 1, 1, 1, 1, 1, 1, 1, 1, 1, 1, 1, 1, 1, 1, 1, 1, 1, 1, 1, 1, 1, 1, 1, 1, 1, 1, 1, 1, 1, 1, 1, 1, 1, 1, 1, 1, 1, 1, 1, 1, 1, 1, 1, 1, 1, 1, 1, 1, 1, 1, 1, 1, 1, 1, 1, 1, 1, 1, 1, 0, 1, 1, 1, 1, 1, 1, 1, 1, 1, 1, 1, 1, 1, 1, 1, 1, 1, 1, 1, 1, 1, 1, 1, 1, 1, 1, 1, 1, 1, 1, 1, 1, 1, 1, 1, 1, 1, 1, 1, 1, 1, 1, 1, 1, 1, 1, 1, 1, 1, 1, 1, 1, 1, 1, 1, 1, 1, 1, 1, 1, 1, 1, 1, 1, 1, 1, 1, 1, 1, 1, 1, 1, 1, 1, 1, 1, 1, 1, 1, 1, 1, 1, 1, 1, 1, 1, 1, 1, 1, 1, 1, 1, 1, 1, 1, 1, 1, 1, 1, 1, 1, 1, 1, 1, 0, 1, 1, 1, 1, 1, 1, 1, 1, 1, 1, 1, 1, 1, 1, 1, 1, 1, 1, 1, 1, 1, 1, 1, 1, 1, 1, 1, 1, 1, 1, 1, 1, 1, 1, 1, 1, 1, 1, 1, 1, 1, 1, 1, 1, 1, 1, 1, 1, 1, 1, 1, 1, 1, 1, 1, 1, 1, 1, 1, 1, 1, 1, 1, 1, 1, 1, 1, 1, 1, 1, 1, 1, 1, 1, 1, 1, 1, 1, 1, 1, 1, 1, 1, 1, 1, 1, 1, 1, 1, 1, 1, 1, 1, 1, 1, 1, 1, 1, 1, 1, 1, 1, 1, 1, 1, 1, 1, 1, 1, 1, 1, 1, 1, 1, 1, 1, 1, 1, 1, 1, 1, 1, 1, 1, 1, 1, 1, 1, 1, 1, 1, 1, 1, 1, 1, 1, 1, 1, 1, 1, 1, 1, 1, 1, 1, 1, 1, 1, 1, 1, 1, 1, 1, 1, 1, 1, 1, 1, 1, 1, 1, 1, 1, 1, 1, 1, 1, 1, 1, 1, 1, 1, 1, 1, 1, 1, 1, 1, 1, 1, 1, 1, 1, 1, 1, 1, 1, 1, 1, 1, 1, 1, 1, 1, 1, 1, 1, 1, 1, 1, 1, 1, 1, 1, 1, 1, 1, 1, 1, 1, 1, 1, 1, 1, 1, 1, 1, 1, 1, 1, 1, 1, 1, 1, 1, 1, 1, 1, 1, 1, 1, 1, 1, 1, 1, 1, 1, 1, 1, 1, 1, 1, 1, 1, 1, 1, 1, 1, 1, 1, 1, 1, 1, 1, 1, 1, 1, 1, 1, 1, 1, 1, 1, 1, 1, 1, 1, 1, 1, 1, 1, 1, 1, 1, 1, 1, 1, 1, 1, 1, 1, 1, 1, 1, 1, 1, 1, 1, 1, 1, 1, 1, 1, 1, 1, 1, 1, 1, 1, 1, 1, 1, 1, 1, 1, 1, 1, 1, 1, 1, 1, 1, 1, 1, 1, 1, 1, 1, 1, 1, 1, 1, 1, 1, 1, 1, 1, 1, 1, 1, 1, 1, 1, 1, 1, 1, 1, 1, 1, 1, 1, 1, 1, 1, 1, 1, 1, 1, 1, 1, 1, 1, 1, 1, 1, 1, 1, 1, 1, 1, 1, 1, 1, 1, 1, 1, 1, 1, 1, 1, 1, 1, 1, 1, 1, 1, 1, 1, 1, 1, 1, 1, 1, 1, 1, 1, 1, 1, 1, 1, 1, 1, 1, 1, 1, 1, 1, 1, 1, 1, 1, 1, 1, 1, 1, 1, 1, 1, 1, 1, 1, 1, 1, 1, 1, 1, 1, 1, 1, 1, 1, 1, 1, 1, 1, 0, 1, 1, 1, 1, 1, 1, 1, 1, 1, 1, 1, 1, 1, 1, 1, 1, 1, 1, 1, 1, 1, 1, 1, 1, 1, 1, 1, 1, 1, 1, 1, 1, 1, 1, 1, 1, 1, 1, 1, 1, 1, 1, 1, 1, 1, 1, 1, 1, 1, 1, 1, 1, 1, 1, 1, 1, 1, 1, 1, 1, 1, 1, 1, 1, 1, 1, 1, 1, 0, 1, 1, 1, 1, 1, 1, 1, 1, 1, 1, 1, 1, 1, 1, 1, 1, 1, 1, 1, 1, 1, 1, 1, 1, 1, 1, 1, 1, 1, 1, 1, 1, 1, 1, 1, 1, 1, 1, 1, 1, 1, 1, 1, 1, 1, 1, 1, 1, 1, 1, 1, 1, 1, 1, 1, 1, 1, 1, 1, 1, 1, 1, 1, 1, 1, 1, 1, 1, 1, 1, 1, 1, 1, 1, 1, 1, 1, 1, 1, 1, 1, 1, 1, 1, 1, 1, 1, 1, 1, 1, 1, 1, 1, 1, 1, 1, 1, 1, 1, 1, 1, 1, 1, 1, 1, 1, 1, 1, 1, 1, 1, 1, 1, 1, 1, 1, 1, 1, 1, 1, 1, 1, 1, 1, 1, 1, 1, 1, 1, 1, 1, 1, 1, 1, 1, 1, 1, 1, 1, 1, 1, 1, 1, 1, 1, 1, 1, 1, 1, 1, 1, 1, 1, 1, 1, 1, 1, 1, 1, 1, 1, 1, 1, 1, 1, 1, 1, 1, 1, 1, 1, 1, 1, 1, 1, 1, 1, 0, 0, 0, 0, 0, 0, 0, 0, 0, 0, 0, 0, 0, 0, 0, 0, 0, 0, 0, 0, 0, 0, 0, 0, 0, 0, 0, 0, 0, 0, 0, 0, 0, 0, 0, 0, 0, 0, 0, 0, 0, 0, 0, 0, 0, 0, 0, 0, 0, 0, 0, 0, 0, 0, 0, 0, 0, 1, 0, 0, 0, 0, 0, 0, 0, 0, 0, 0, 0, 0, 0, 0, 0, 0, 0, 0, 0, 0, 0, 0, 0, 0, 0, 0, 0, 0, 0, 0, 0, 0, 0, 0, 0, 0, 0, 0, 0, 0, 0, 0, 0, 0, 0, 0, 0, 0, 0, 0, 0, 0, 0, 0, 0, 0, 0, 0, 0, 0, 0, 0, 0, 0, 0, 0, 0, 0, 0, 0, 0, 0, 0, 0, 0, 0, 0, 0, 0, 0, 0, 0, 0, 0, 0, 0, 0, 0, 0, 0, 0, 0, 0, 0, 0, 0, 0, 0, 0, 0, 0, 0, 0, 0, 0, 0, 0, 0, 0, 0, 0, 0, 0, 0, 0, 0, 0, 0, 0, 0, 0, 0, 0, 0, 0, 0, 0, 0, 0, 0, 0, 0, 0, 0, 0, 0, 0, 0, 0, 0, 0, 0, 0, 0, 0, 0, 0, 0, 0, 0, 0, 0, 0, 0, 0, 0, 0, 0, 0, 0, 0, 0, 0, 0, 0, 0, 0, 0, 0, 0, 0, 0, 0, 0, 0, 0, 0, 0, 0, 0, 0, 0, 0, 0, 0, 0, 0, 0, 0, 0, 0, 0, 0, 0, 0, 0, 0, 0, 0, 0, 0, 0, 0, 0, 0, 0, 0, 0, 0, 0, 0, 0, 0, 0, 0, 0, 0, 0, 0, 0, 0, 0, 0, 0, 0, 0, 0, 0, 0, 0, 0, 0, 0, 0, 0, 0, 0, 0, 0, 0, 1, 0, 0, 0, 0, 0, 0, 0, 0, 0, 0, 0, 0, 0, 0, 0, 0, 0, 0, 0, 0, 0, 0, 0, 0, 0, 0, 0, 0, 0, 0, 0, 0, 0, 0, 0, 0, 0, 0, 0, 0, 0, 0, 0, 0, 0, 0, 0, 0, 0, 0, 0, 0, 0, 0, 0, 0, 0, 0, 0, 0, 0, 0, 0, 0, 0, 0, 0, 0, 0, 0, 0, 0, 0, 0, 0, 0, 0, 0, 0, 0, 0, 0, 0, 0, 0, 0, 0, 0, 0, 0, 0, 0, 0, 0, 0, 0, 0, 0, 0, 0, 0, 0, 0, 0, 0, 0, 0, 0, 0, 0, 0, 0, 0, 0, 0, 0, 0, 0, 0, 0, 0, 0, 0, 0, 0, 0, 0, 0, 0, 0, 0, 0, 0, 0, 0, 0, 0, 0, 0, 0, 0, 0, 0, 0, 0, 0, 0, 0, 0, 0, 0, 0, 0, 0, 0, 0, 0, 0, 0, 0, 0, 0, 0, 0, 0, 0, 0, 0, 0, 0, 0, 0, 0, 0, 0, 0, 0, 0, 0, 0, 0, 0, 0, 0, 0, 0, 0, 0, 0, 0, 0, 0, 0, 0, 0, 0, 0, 0, 0, 0, 0, 0, 0, 0, 0, 0, 0, 0, 0, 0, 0, 0, 0, 0, 0, 0, 0, 0, 0, 0, 0, 0, 0, 0, 0, 0, 0, 0, 0, 0, 0, 0, 0, 0, 0, 0, 0, 0, 0, 0, 0, 0, 0, 0, 0, 1, 0, 0, 0, 0, 0, 0, 0, 0, 0, 0, 0, 0, 0, 0, 0, 0, 0, 0, 0, 0, 0, 0, 0, 0, 0, 0, 0, 0, 0, 0, 0, 0, 0, 0, 0, 0, 0, 0, 0, 0, 0, 0, 0, 0, 0, 0, 0, 0, 0, 0, 0, 0, 0, 0, 0, 0, 0, 0, 0, 0, 0, 0, 0, 0, 0, 0, 0, 0, 0, 0, 0, 0, 0, 0, 0, 0, 0, 0, 0, 0, 0, 0, 0, 0, 0, 0, 0, 0, 0, 0, 0, 0, 0, 0, 0, 0, 0, 0, 0, 0, 0, 0, 0, 0, 0, 0, 0, 0, 0, 0, 0, 0, 0, 0, 0, 0, 0, 0, 0, 0, 0, 0, 0, 0, 0, 0, 0, 0, 0, 0, 0, 0, 0, 0, 0, 0, 0, 0, 0, 0, 0, 0, 0, 0, 0, 0, 0, 0, 0, 0, 0, 0, 0, 0, 0, 0, 0, 0, 0, 0, 0, 0, 0, 0, 0, 0, 0, 0, 0, 0, 0, 0, 0, 0, 0, 0, 0, 0, 0, 0, 0, 0, 0, 0, 0, 0, 0, 0, 0, 0, 0, 0, 0, 0, 0, 0, 0, 0, 0, 0, 0, 0, 0, 0, 0, 0, 0, 0, 0, 0, 0, 0, 0, 0, 0, 0, 0, 0, 0, 0, 0, 0, 0, 0, 0, 0, 0, 0, 0, 0, 0, 0, 0, 0, 0, 0, 0, 0, 0, 0, 0, 0, 0, 0, 0, 0, 0, 0, 0, 0, 0, 0, 0, 0, 0, 0, 0, 0, 0, 0, 0, 0, 0, 0, 0, 0, 0, 0, 0, 0, 0, 0, 0, 0, 0, 0, 0, 0, 0, 0, 0, 0, 0, 0, 0, 0, 0, 0, 0, 0, 0, 0, 0, 0, 0, 0, 0, 0, 0, 0, 0, 0, 0, 0, 0, 0, 0, 0, 1, 0, 0, 0, 0, 0, 0, 0, 0, 0, 0, 0, 0, 0, 0, 0, 0, 0, 0, 0, 0, 0, 0, 0, 0, 0, 0, 0, 0, 0, 0, 0, 0, 0, 0, 0, 0, 0, 0, 0, 0, 0, 0, 0, 0, 0, 0, 0, 0, 0, 0, 0, 0, 0, 0, 0, 0, 0, 0, 0, 0, 0, 0, 0, 0, 0, 0, 0, 0, 0, 0, 0, 0, 0, 0, 0, 0, 0, 0, 0, 0, 0, 0, 0, 0, 0, 0, 0, 0, 0, 0, 0, 0, 0, 0, 0, 0, 0, 0, 0, 0, 0, 0, 0, 0, 0, 0, 0, 0, 0, 0, 0, 0, 0, 0, 0, 0, 0, 0, 0, 0, 0, 0, 0, 0, 0, 0, 0, 0, 0, 0, 0, 0, 0, 0, 0, 0, 0, 0, 0, 0, 0, 0, 0, 0, 0, 0]\n",
      "[[1.]\n",
      " [1.]\n",
      " [1.]\n",
      " ...\n",
      " [0.]\n",
      " [0.]\n",
      " [0.]]\n",
      "Naive Bayes accuracy =  0.5\n"
     ]
    }
   ],
   "source": [
    "print(\"Naive Bayes accuracy = \", test_naive_bayes(test_x, test_y, logprior, loglikelihood))"
   ]
  },
  {
   "cell_type": "markdown",
   "id": "73a7e226",
   "metadata": {},
   "source": [
    "### Datasets from Hugging Face"
   ]
  },
  {
   "cell_type": "code",
   "execution_count": 1,
   "id": "c80eb160",
   "metadata": {},
   "outputs": [
    {
     "name": "stdout",
     "output_type": "stream",
     "text": [
      "Collecting datasets\n",
      "  Downloading datasets-2.13.2-py3-none-any.whl (512 kB)\n",
      "     -------------------------------------- 512.7/512.7 kB 4.6 MB/s eta 0:00:00\n",
      "Requirement already satisfied: numpy>=1.17 in c:\\users\\admin\\.conda\\envs\\course_nlp_env\\lib\\site-packages (from datasets) (1.21.6)\n",
      "Requirement already satisfied: pyarrow>=8.0.0 in c:\\users\\admin\\.conda\\envs\\course_nlp_env\\lib\\site-packages (from datasets) (12.0.1)\n",
      "Collecting multiprocess\n",
      "  Downloading multiprocess-0.70.15-py37-none-any.whl (116 kB)\n",
      "     ---------------------------------------- 116.3/116.3 kB ? eta 0:00:00\n",
      "Requirement already satisfied: packaging in c:\\users\\admin\\.conda\\envs\\course_nlp_env\\lib\\site-packages (from datasets) (23.1)\n",
      "Collecting aiohttp\n",
      "  Downloading aiohttp-3.8.6-cp37-cp37m-win_amd64.whl (326 kB)\n",
      "     -------------------------------------- 326.9/326.9 kB 1.6 MB/s eta 0:00:00\n",
      "Collecting dill<0.3.7,>=0.3.0\n",
      "  Using cached dill-0.3.6-py3-none-any.whl (110 kB)\n",
      "Collecting huggingface-hub<1.0.0,>=0.11.0\n",
      "  Downloading huggingface_hub-0.16.4-py3-none-any.whl (268 kB)\n",
      "     -------------------------------------- 268.8/268.8 kB 8.1 MB/s eta 0:00:00\n",
      "Requirement already satisfied: importlib-metadata in c:\\users\\admin\\.conda\\envs\\course_nlp_env\\lib\\site-packages (from datasets) (6.7.0)\n",
      "Collecting pyyaml>=5.1\n",
      "  Downloading PyYAML-6.0.1-cp37-cp37m-win_amd64.whl (153 kB)\n",
      "     -------------------------------------- 153.2/153.2 kB 8.9 MB/s eta 0:00:00\n",
      "Collecting fsspec[http]>=2021.11.1\n",
      "  Using cached fsspec-2023.1.0-py3-none-any.whl (143 kB)\n",
      "Requirement already satisfied: tqdm>=4.62.1 in c:\\users\\admin\\.conda\\envs\\course_nlp_env\\lib\\site-packages (from datasets) (4.65.0)\n",
      "Requirement already satisfied: pandas in c:\\users\\admin\\.conda\\envs\\course_nlp_env\\lib\\site-packages (from datasets) (1.3.5)\n",
      "Collecting xxhash\n",
      "  Downloading xxhash-3.5.0-cp37-cp37m-win_amd64.whl (30 kB)\n",
      "Requirement already satisfied: requests>=2.19.0 in c:\\users\\admin\\.conda\\envs\\course_nlp_env\\lib\\site-packages (from datasets) (2.31.0)\n",
      "Collecting yarl<2.0,>=1.0\n",
      "  Downloading yarl-1.9.4-cp37-cp37m-win_amd64.whl (77 kB)\n",
      "     ---------------------------------------- 77.2/77.2 kB ? eta 0:00:00\n",
      "Requirement already satisfied: attrs>=17.3.0 in c:\\users\\admin\\.conda\\envs\\course_nlp_env\\lib\\site-packages (from aiohttp->datasets) (23.1.0)\n",
      "Collecting frozenlist>=1.1.1\n",
      "  Using cached frozenlist-1.3.3-cp37-cp37m-win_amd64.whl (34 kB)\n",
      "Requirement already satisfied: typing-extensions>=3.7.4 in c:\\users\\admin\\.conda\\envs\\course_nlp_env\\lib\\site-packages (from aiohttp->datasets) (4.7.1)\n",
      "Collecting asynctest==0.13.0\n",
      "  Using cached asynctest-0.13.0-py3-none-any.whl (26 kB)\n",
      "Requirement already satisfied: charset-normalizer<4.0,>=2.0 in c:\\users\\admin\\.conda\\envs\\course_nlp_env\\lib\\site-packages (from aiohttp->datasets) (3.3.2)\n",
      "Collecting aiosignal>=1.1.2\n",
      "  Using cached aiosignal-1.3.1-py3-none-any.whl (7.6 kB)\n",
      "Collecting async-timeout<5.0,>=4.0.0a3\n",
      "  Downloading async_timeout-4.0.3-py3-none-any.whl (5.7 kB)\n",
      "Collecting multidict<7.0,>=4.5\n",
      "  Downloading multidict-6.0.5-cp37-cp37m-win_amd64.whl (26 kB)\n",
      "Collecting filelock\n",
      "  Using cached filelock-3.12.2-py3-none-any.whl (10 kB)\n",
      "Requirement already satisfied: certifi>=2017.4.17 in c:\\users\\admin\\.conda\\envs\\course_nlp_env\\lib\\site-packages (from requests>=2.19.0->datasets) (2023.5.7)\n",
      "Requirement already satisfied: idna<4,>=2.5 in c:\\users\\admin\\.conda\\envs\\course_nlp_env\\lib\\site-packages (from requests>=2.19.0->datasets) (3.7)\n",
      "Requirement already satisfied: urllib3<3,>=1.21.1 in c:\\users\\admin\\.conda\\envs\\course_nlp_env\\lib\\site-packages (from requests>=2.19.0->datasets) (2.0.7)\n",
      "Requirement already satisfied: colorama in c:\\users\\admin\\.conda\\envs\\course_nlp_env\\lib\\site-packages (from tqdm>=4.62.1->datasets) (0.4.6)\n",
      "Requirement already satisfied: zipp>=0.5 in c:\\users\\admin\\.conda\\envs\\course_nlp_env\\lib\\site-packages (from importlib-metadata->datasets) (3.15.0)\n",
      "Collecting multiprocess\n",
      "  Using cached multiprocess-0.70.14-py37-none-any.whl (115 kB)\n",
      "Requirement already satisfied: pytz>=2017.3 in c:\\users\\admin\\.conda\\envs\\course_nlp_env\\lib\\site-packages (from pandas->datasets) (2023.3)\n",
      "Requirement already satisfied: python-dateutil>=2.7.3 in c:\\users\\admin\\.conda\\envs\\course_nlp_env\\lib\\site-packages (from pandas->datasets) (2.8.2)\n",
      "Requirement already satisfied: six>=1.5 in c:\\users\\admin\\.conda\\envs\\course_nlp_env\\lib\\site-packages (from python-dateutil>=2.7.3->pandas->datasets) (1.16.0)\n",
      "Installing collected packages: xxhash, pyyaml, multidict, fsspec, frozenlist, filelock, dill, asynctest, async-timeout, yarl, multiprocess, huggingface-hub, aiosignal, aiohttp, datasets\n",
      "Successfully installed aiohttp-3.8.6 aiosignal-1.3.1 async-timeout-4.0.3 asynctest-0.13.0 datasets-2.13.2 dill-0.3.6 filelock-3.12.2 frozenlist-1.3.3 fsspec-2023.1.0 huggingface-hub-0.16.4 multidict-6.0.5 multiprocess-0.70.14 pyyaml-6.0.1 xxhash-3.5.0 yarl-1.9.4\n"
     ]
    }
   ],
   "source": [
    "! pip install datasets"
   ]
  },
  {
   "cell_type": "code",
   "execution_count": 2,
   "id": "a4dd3922",
   "metadata": {},
   "outputs": [],
   "source": [
    "from datasets import load_dataset"
   ]
  },
  {
   "cell_type": "code",
   "execution_count": 4,
   "id": "e5bb30af",
   "metadata": {},
   "outputs": [
    {
     "name": "stderr",
     "output_type": "stream",
     "text": [
      "Downloading builder script: 100%|██████████| 4.03k/4.03k [00:00<?, ?B/s]\n",
      "Downloading readme: 100%|██████████| 6.84k/6.84k [00:00<?, ?B/s]\n"
     ]
    },
    {
     "name": "stdout",
     "output_type": "stream",
     "text": [
      "Downloading and preparing dataset sentiment140/sentiment140 to C:/Users/Admin/.cache/huggingface/datasets/stanfordnlp___sentiment140/sentiment140/1.0.0/7fdc297b986cb1dad1197eae755ef4d204f77fb43ba2bb81cc2a51a7565de122...\n"
     ]
    },
    {
     "name": "stderr",
     "output_type": "stream",
     "text": [
      "Downloading data: 100%|██████████| 81.4M/81.4M [00:26<00:00, 3.10MB/s]  \n",
      "                                                                                           \r"
     ]
    },
    {
     "name": "stdout",
     "output_type": "stream",
     "text": [
      "Dataset sentiment140 downloaded and prepared to C:/Users/Admin/.cache/huggingface/datasets/stanfordnlp___sentiment140/sentiment140/1.0.0/7fdc297b986cb1dad1197eae755ef4d204f77fb43ba2bb81cc2a51a7565de122. Subsequent calls will reuse this data.\n"
     ]
    },
    {
     "name": "stderr",
     "output_type": "stream",
     "text": [
      "100%|██████████| 2/2 [00:00<00:00, 27.54it/s]\n"
     ]
    }
   ],
   "source": [
    "dataset = load_dataset(\"stanfordnlp/sentiment140\")"
   ]
  },
  {
   "cell_type": "code",
   "execution_count": 5,
   "id": "886913e3",
   "metadata": {},
   "outputs": [],
   "source": [
    "trainset = dataset['train']\n",
    "testset = dataset['test']"
   ]
  },
  {
   "cell_type": "code",
   "execution_count": 6,
   "id": "852c75a0",
   "metadata": {},
   "outputs": [
    {
     "name": "stdout",
     "output_type": "stream",
     "text": [
      "{'text': \"@switchfoot http://twitpic.com/2y1zl - Awww, that's a bummer.  You shoulda got David Carr of Third Day to do it. ;D\", 'date': 'Mon Apr 06 22:19:45 PDT 2009', 'user': '_TheSpecialOne_', 'sentiment': 0, 'query': 'NO_QUERY'}\n"
     ]
    }
   ],
   "source": [
    "print(trainset[0])"
   ]
  },
  {
   "cell_type": "code",
   "execution_count": 7,
   "id": "785e49e9",
   "metadata": {},
   "outputs": [
    {
     "data": {
      "text/plain": [
       "{'text': \"@switchfoot http://twitpic.com/2y1zl - Awww, that's a bummer.  You shoulda got David Carr of Third Day to do it. ;D\",\n",
       " 'date': 'Mon Apr 06 22:19:45 PDT 2009',\n",
       " 'user': '_TheSpecialOne_',\n",
       " 'sentiment': 0,\n",
       " 'query': 'NO_QUERY'}"
      ]
     },
     "execution_count": 7,
     "metadata": {},
     "output_type": "execute_result"
    }
   ],
   "source": [
    "trainset[0]"
   ]
  },
  {
   "cell_type": "code",
   "execution_count": 10,
   "id": "cd4da1a7",
   "metadata": {},
   "outputs": [
    {
     "data": {
      "text/plain": [
       "dict"
      ]
     },
     "execution_count": 10,
     "metadata": {},
     "output_type": "execute_result"
    }
   ],
   "source": [
    "type(trainset[0]) # each element of trainset is a dictionary"
   ]
  },
  {
   "cell_type": "code",
   "execution_count": 11,
   "id": "6e1b5a42",
   "metadata": {},
   "outputs": [
    {
     "name": "stdout",
     "output_type": "stream",
     "text": [
      "Dataset({\n",
      "    features: ['text', 'date', 'user', 'sentiment', 'query'],\n",
      "    num_rows: 1600000\n",
      "})\n"
     ]
    }
   ],
   "source": [
    "print(trainset)"
   ]
  },
  {
   "cell_type": "code",
   "execution_count": null,
   "id": "6f62ad3d",
   "metadata": {},
   "outputs": [],
   "source": []
  }
 ],
 "metadata": {
  "kernelspec": {
   "display_name": "Python 3",
   "language": "python",
   "name": "python3"
  },
  "language_info": {
   "codemirror_mode": {
    "name": "ipython",
    "version": 3
   },
   "file_extension": ".py",
   "mimetype": "text/x-python",
   "name": "python",
   "nbconvert_exporter": "python",
   "pygments_lexer": "ipython3",
   "version": "3.11.3"
  }
 },
 "nbformat": 4,
 "nbformat_minor": 5
}
